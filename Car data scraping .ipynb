{
 "cells": [
  {
   "cell_type": "markdown",
   "metadata": {},
   "source": [
    "## Car data collection"
   ]
  },
  {
   "cell_type": "code",
   "execution_count": 1,
   "metadata": {},
   "outputs": [],
   "source": [
    "from selenium import webdriver\n",
    "from selenium.webdriver.common.keys import Keys\n",
    "import time\n",
    "import pandas as pd # Importing the required libraries\n",
    "from selenium.webdriver.common.by import By\n",
    "from selenium.webdriver.support.ui import WebDriverWait\n",
    "from selenium.webdriver.support import expected_conditions as EC\n",
    "from selenium.common.exceptions import NoSuchElementException"
   ]
  },
  {
   "cell_type": "markdown",
   "metadata": {},
   "source": [
    "This is a list of 22 cities for which I will be scrapping the car data:"
   ]
  },
  {
   "cell_type": "code",
   "execution_count": 2,
   "metadata": {},
   "outputs": [],
   "source": [
    "cities = ['Rohtak','Panipat','Delhi','Mumbai','Pune','Bengaluru','Hyderabad','Chennai','Kolkata','Ahmedabad','Surat','Bhopal', 'Chandigarh','Nasik','Rajkot','Jaipur','Ludhiana','Meerut','Mysore','Vadodara','Kochi','Lucknow']"
   ]
  },
  {
   "cell_type": "code",
   "execution_count": 3,
   "metadata": {},
   "outputs": [
    {
     "data": {
      "text/plain": [
       "22"
      ]
     },
     "execution_count": 3,
     "metadata": {},
     "output_type": "execute_result"
    }
   ],
   "source": [
    "len(cities)"
   ]
  },
  {
   "cell_type": "code",
   "execution_count": 5,
   "metadata": {},
   "outputs": [],
   "source": [
    "driver=webdriver.Chrome(\"chromedriver.exe\") \n",
    "driver.get(\"https://www.cars24.com/buy-used-car?sort=P&storeCityId=5&pinId=122001\")\n",
    "\n",
    "time.sleep(2) # Going to link"
   ]
  },
  {
   "cell_type": "markdown",
   "metadata": {},
   "source": [
    "Maximising the opened window as sometimes there is an error other wise."
   ]
  },
  {
   "cell_type": "code",
   "execution_count": 6,
   "metadata": {},
   "outputs": [],
   "source": [
    "driver.set_window_size(1024, 600)\n",
    "driver.maximize_window()"
   ]
  },
  {
   "cell_type": "markdown",
   "metadata": {},
   "source": [
    "The following xpath opens up the location prompt; we click it to select the next location."
   ]
  },
  {
   "cell_type": "code",
   "execution_count": 7,
   "metadata": {},
   "outputs": [],
   "source": [
    "selection = driver.find_element_by_xpath(\"/html/body/div[1]/div[1]/div[2]/div/div/div[1]/p\")\n",
    "selection.click()"
   ]
  },
  {
   "cell_type": "markdown",
   "metadata": {},
   "source": [
    "A basic function which will take the text element from the scraped web element and append it to a list."
   ]
  },
  {
   "cell_type": "code",
   "execution_count": 8,
   "metadata": {},
   "outputs": [],
   "source": [
    "def append(path,list_): # This is a function I have created which will be used throughout the assignment to not repeat same piece of code again and again\n",
    "    for i in path:\n",
    "        list_.append(i.text)   # This function basically iterates the text from each element from seleenium driver and appends it to the list provided."
   ]
  },
  {
   "cell_type": "markdown",
   "metadata": {},
   "source": [
    "This function will be used to scroll down to the bottom of a page; as cars 24 uses infinite scrolling this will be useful."
   ]
  },
  {
   "cell_type": "code",
   "execution_count": 9,
   "metadata": {},
   "outputs": [],
   "source": [
    "def scroll_down():\n",
    "    for i in range(32):\n",
    "        driver.execute_script(\"window.scrollTo(0, 1299999)\") \n",
    "        time.sleep(0.5)"
   ]
  },
  {
   "cell_type": "markdown",
   "metadata": {},
   "source": [
    "Initiating lists to which I will append the data."
   ]
  },
  {
   "cell_type": "code",
   "execution_count": 10,
   "metadata": {},
   "outputs": [],
   "source": [
    "urls = []\n",
    "car_name = []\n",
    "car_transmission = []\n",
    "car_variant = []\n",
    "car_mileage = []\n",
    "car_owner = []\n",
    "car_fuel = []\n",
    "car_price = []\n",
    "\n",
    "car_city = []"
   ]
  },
  {
   "cell_type": "code",
   "execution_count": 11,
   "metadata": {},
   "outputs": [
    {
     "name": "stdout",
     "output_type": "stream",
     "text": [
      "Rohtak\n",
      "116 116 116 116 116 116 116 116\n",
      "Panipat\n",
      "117 117 117 117 117 117 117 117\n",
      "Delhi\n",
      "123 123 123 123 123 123 123 123\n",
      "Mumbai\n",
      "400 400 400 400 400 400 400 400\n",
      "Pune\n",
      "400 400 400 400 400 400 400 400\n",
      "Bengaluru\n",
      "255 255 255 255 255 255 255 255\n",
      "Hyderabad\n",
      "41 41 41 41 41 41 41 41\n",
      "Chennai\n",
      "223 223 223 223 223 223 223 223\n",
      "Kolkata\n",
      "148 148 148 148 148 148 148 148\n",
      "Ahmedabad\n",
      "269 269 269 269 269 269 269 269\n",
      "Surat\n",
      "269 269 269 269 269 269 269 269\n",
      "Bhopal\n",
      "17 17 17 17 17 17 17 17\n",
      "Chandigarh\n",
      "153 153 153 153 153 153 153 153\n",
      "Nasik\n",
      "73 73 73 73 73 73 73 73\n",
      "Rajkot\n",
      "20 20 20 20 20 20 20 20\n",
      "Jaipur\n",
      "273 273 273 273 273 273 273 273\n",
      "Ludhiana\n",
      "153 153 153 153 153 153 153 153\n",
      "Meerut\n",
      "110 110 110 110 110 110 110 110\n",
      "Mysore\n",
      "20 20 20 20 20 20 20 20\n",
      "Vadodara\n",
      "216 216 216 216 216 216 216 216\n",
      "Kochi\n",
      "116 116 116 116 116 116 116 116\n",
      "Lucknow\n",
      "33 33 33 33 33 33 33 33\n"
     ]
    }
   ],
   "source": [
    "for city in cities:\n",
    "    \n",
    "    search_bar = driver.find_element_by_xpath(\"//div[@class='_6QaMX']/input\") # Goes to the search bar for location\n",
    "    search_bar.send_keys(Keys.CONTROL, 'a')                                   # Clear previous entry\n",
    "    search_bar.send_keys(Keys.BACKSPACE)\n",
    "    search_bar.send_keys(city)                                                # Type in one city name from the list (loop next)\n",
    "    time.sleep(1)\n",
    "    \n",
    "    try:\n",
    "        to_click = driver.find_element_by_xpath(\"//ul[@class='_16Bvy']/li\")      # Select city\n",
    "    except:\n",
    "        to_click = driver.find_element_by_xpath(\"/html/body/div[1]/div[6]/div/div/div/div[2]/div/div/ul/div/li\") # Select city\n",
    "        \n",
    "    to_click.click() # Click city\n",
    "        \n",
    "    time.sleep(2)\n",
    "    print(city) # For conformation, that city is selected properly\n",
    "    scroll_down()\n",
    "    \n",
    "       \n",
    "    links = driver.find_elements_by_xpath(\"//a[@class='_9Ue0B']\")\n",
    "    names = driver.find_elements_by_xpath(\"//div[@class='_1l4fi']/div/div/h2\")\n",
    "    transmissions = driver.find_elements_by_xpath(\"//div[@class='_1l4fi']/div/div/p/span\")\n",
    "    variants = driver.find_elements_by_xpath(\"//div[@class='_1l4fi']/div/div/p\")\n",
    "    mileage = driver.find_elements_by_xpath(\"//div[@class='_1l4fi']/ul/li[1]\")         # Various xpaths for the data we need\n",
    "    owner = driver.find_elements_by_xpath(\"//div[@class='_1l4fi']/ul/li[2]\")           # to collect about the cars\n",
    "    fuel = driver.find_elements_by_xpath(\"//div[@class='_1l4fi']/ul/li[3]\")            # Self explanatory names\n",
    "    price = driver.find_elements_by_xpath(\"//div[@class='_1l4fi']/div[2]/div/span\")    \n",
    "    \n",
    "    for url in links:\n",
    "        urls.append(url.get_attribute('href'))\n",
    "    \n",
    "    append(names,car_name)\n",
    "    append(transmissions,car_transmission)\n",
    "    append(variants,car_variant)\n",
    "    append(mileage,car_mileage)\n",
    "    append(owner,car_owner)             # Append all data to list \n",
    "    append(fuel,car_fuel)\n",
    "    append(price,car_price)\n",
    "    \n",
    "    print(len(links),len(names),len(transmissions),len(variants),len(mileage),len(owner),len(fuel),len(price))\n",
    "    # To confirm that all data is of same length\n",
    "    \n",
    "    length_cur = len(names)  \n",
    "    \n",
    "    for i in range(length_cur): # Adding list with city name; it has equal amount of data as other collected data \n",
    "        car_city.append(city)   # for that specific city\n",
    "\n",
    "    \n",
    "    selection = driver.find_element_by_xpath(\"/html/body/div[1]/div[1]/div[2]/div/div/div[1]/p\")\n",
    "    selection.click()           # After data collection, to select next city\n",
    "    "
   ]
  },
  {
   "cell_type": "code",
   "execution_count": 12,
   "metadata": {},
   "outputs": [],
   "source": [
    "time.sleep(2)\n",
    "close_but = driver.find_element_by_xpath(\"/html/body/div[1]/div[6]/div/div/h3/div\") # Close after all data is collected\n",
    "close_but.click()"
   ]
  },
  {
   "cell_type": "code",
   "execution_count": 13,
   "metadata": {},
   "outputs": [],
   "source": [
    "c24_df = pd.DataFrame({}) # Initiating empty data frame\n",
    "\n",
    "c24_df['Name'] = car_name\n",
    "c24_df['Transmission type'] = car_transmission \n",
    "c24_df['Variant'] = car_variant \n",
    "c24_df['Mileage'] = car_mileage \n",
    "c24_df['Owned'] = car_owner \n",
    "c24_df['Fuel type'] = car_fuel \n",
    "c24_df['City'] = car_city \n",
    "c24_df['Price'] = car_price \n",
    "  "
   ]
  },
  {
   "cell_type": "code",
   "execution_count": 14,
   "metadata": {},
   "outputs": [
    {
     "data": {
      "text/html": [
       "<div>\n",
       "<style scoped>\n",
       "    .dataframe tbody tr th:only-of-type {\n",
       "        vertical-align: middle;\n",
       "    }\n",
       "\n",
       "    .dataframe tbody tr th {\n",
       "        vertical-align: top;\n",
       "    }\n",
       "\n",
       "    .dataframe thead th {\n",
       "        text-align: right;\n",
       "    }\n",
       "</style>\n",
       "<table border=\"1\" class=\"dataframe\">\n",
       "  <thead>\n",
       "    <tr style=\"text-align: right;\">\n",
       "      <th></th>\n",
       "      <th>Name</th>\n",
       "      <th>Transmission type</th>\n",
       "      <th>Variant</th>\n",
       "      <th>Mileage</th>\n",
       "      <th>Owned</th>\n",
       "      <th>Fuel type</th>\n",
       "      <th>City</th>\n",
       "      <th>Price</th>\n",
       "    </tr>\n",
       "  </thead>\n",
       "  <tbody>\n",
       "    <tr>\n",
       "      <th>0</th>\n",
       "      <td>2013 Hyundai Verna</td>\n",
       "      <td>Manual</td>\n",
       "      <td>FLUIDIC 1.6 SX CRDI OPT Manual</td>\n",
       "      <td>53,517 km</td>\n",
       "      <td>1st Owner</td>\n",
       "      <td>Diesel</td>\n",
       "      <td>Rohtak</td>\n",
       "      <td>₹4,82,299</td>\n",
       "    </tr>\n",
       "    <tr>\n",
       "      <th>1</th>\n",
       "      <td>2018 Hyundai Creta</td>\n",
       "      <td>Manual</td>\n",
       "      <td>1.6 E + VTVT Manual</td>\n",
       "      <td>39,294 km</td>\n",
       "      <td>2nd Owner</td>\n",
       "      <td>Petrol</td>\n",
       "      <td>Rohtak</td>\n",
       "      <td>₹8,98,999</td>\n",
       "    </tr>\n",
       "    <tr>\n",
       "      <th>2</th>\n",
       "      <td>2017 Maruti Swift</td>\n",
       "      <td>Manual</td>\n",
       "      <td>VDI ABS Manual</td>\n",
       "      <td>69,894 km</td>\n",
       "      <td>1st Owner</td>\n",
       "      <td>Diesel</td>\n",
       "      <td>Rohtak</td>\n",
       "      <td>₹4,74,699</td>\n",
       "    </tr>\n",
       "    <tr>\n",
       "      <th>3</th>\n",
       "      <td>2018 Hyundai Elite i20</td>\n",
       "      <td>Manual</td>\n",
       "      <td>SPORTZ 1.2 Manual</td>\n",
       "      <td>48,582 km</td>\n",
       "      <td>1st Owner</td>\n",
       "      <td>Petrol</td>\n",
       "      <td>Rohtak</td>\n",
       "      <td>₹5,90,199</td>\n",
       "    </tr>\n",
       "    <tr>\n",
       "      <th>4</th>\n",
       "      <td>2020 MG HECTOR</td>\n",
       "      <td>Manual</td>\n",
       "      <td>SHARP HYBIRD PETROL MT Manual</td>\n",
       "      <td>3,094 km</td>\n",
       "      <td>1st Owner</td>\n",
       "      <td>Petrol</td>\n",
       "      <td>Rohtak</td>\n",
       "      <td>₹17,04,999</td>\n",
       "    </tr>\n",
       "  </tbody>\n",
       "</table>\n",
       "</div>"
      ],
      "text/plain": [
       "                     Name Transmission type                         Variant  \\\n",
       "0      2013 Hyundai Verna            Manual  FLUIDIC 1.6 SX CRDI OPT Manual   \n",
       "1      2018 Hyundai Creta            Manual             1.6 E + VTVT Manual   \n",
       "2       2017 Maruti Swift            Manual                  VDI ABS Manual   \n",
       "3  2018 Hyundai Elite i20            Manual               SPORTZ 1.2 Manual   \n",
       "4          2020 MG HECTOR            Manual   SHARP HYBIRD PETROL MT Manual   \n",
       "\n",
       "     Mileage      Owned Fuel type    City       Price  \n",
       "0  53,517 km  1st Owner    Diesel  Rohtak   ₹4,82,299  \n",
       "1  39,294 km  2nd Owner    Petrol  Rohtak   ₹8,98,999  \n",
       "2  69,894 km  1st Owner    Diesel  Rohtak   ₹4,74,699  \n",
       "3  48,582 km  1st Owner    Petrol  Rohtak   ₹5,90,199  \n",
       "4   3,094 km  1st Owner    Petrol  Rohtak  ₹17,04,999  "
      ]
     },
     "execution_count": 14,
     "metadata": {},
     "output_type": "execute_result"
    }
   ],
   "source": [
    "c24_df.head() # Probing first 5 elements of the data frame"
   ]
  },
  {
   "cell_type": "code",
   "execution_count": 15,
   "metadata": {},
   "outputs": [
    {
     "data": {
      "text/html": [
       "<div>\n",
       "<style scoped>\n",
       "    .dataframe tbody tr th:only-of-type {\n",
       "        vertical-align: middle;\n",
       "    }\n",
       "\n",
       "    .dataframe tbody tr th {\n",
       "        vertical-align: top;\n",
       "    }\n",
       "\n",
       "    .dataframe thead th {\n",
       "        text-align: right;\n",
       "    }\n",
       "</style>\n",
       "<table border=\"1\" class=\"dataframe\">\n",
       "  <thead>\n",
       "    <tr style=\"text-align: right;\">\n",
       "      <th></th>\n",
       "      <th>Name</th>\n",
       "      <th>Transmission type</th>\n",
       "      <th>Variant</th>\n",
       "      <th>Mileage</th>\n",
       "      <th>Owned</th>\n",
       "      <th>Fuel type</th>\n",
       "      <th>City</th>\n",
       "      <th>Price</th>\n",
       "    </tr>\n",
       "  </thead>\n",
       "  <tbody>\n",
       "    <tr>\n",
       "      <th>3540</th>\n",
       "      <td>2020 Maruti Alto</td>\n",
       "      <td>Manual</td>\n",
       "      <td>VXI Manual</td>\n",
       "      <td>7,802 km</td>\n",
       "      <td>1st Owner</td>\n",
       "      <td>Petrol</td>\n",
       "      <td>Lucknow</td>\n",
       "      <td>₹3,83,899</td>\n",
       "    </tr>\n",
       "    <tr>\n",
       "      <th>3541</th>\n",
       "      <td>2020 Maruti Alto</td>\n",
       "      <td>Manual</td>\n",
       "      <td>VXI Manual</td>\n",
       "      <td>4,749 km</td>\n",
       "      <td>1st Owner</td>\n",
       "      <td>Petrol</td>\n",
       "      <td>Lucknow</td>\n",
       "      <td>₹3,76,999</td>\n",
       "    </tr>\n",
       "    <tr>\n",
       "      <th>3542</th>\n",
       "      <td>2019 Mahindra TUV300</td>\n",
       "      <td>Manual</td>\n",
       "      <td>T10 MT Manual</td>\n",
       "      <td>15,334 km</td>\n",
       "      <td>1st Owner</td>\n",
       "      <td>Diesel</td>\n",
       "      <td>Lucknow</td>\n",
       "      <td>₹8,67,299</td>\n",
       "    </tr>\n",
       "    <tr>\n",
       "      <th>3543</th>\n",
       "      <td>2019 Maruti New Wagon-R</td>\n",
       "      <td>Manual</td>\n",
       "      <td>VXI 1.0 Manual</td>\n",
       "      <td>13,314 km</td>\n",
       "      <td>1st Owner</td>\n",
       "      <td>Petrol</td>\n",
       "      <td>Lucknow</td>\n",
       "      <td>₹5,23,099</td>\n",
       "    </tr>\n",
       "    <tr>\n",
       "      <th>3544</th>\n",
       "      <td>2016 Maruti Alto K10</td>\n",
       "      <td>Manual</td>\n",
       "      <td>VXI Manual</td>\n",
       "      <td>16,451 km</td>\n",
       "      <td>1st Owner</td>\n",
       "      <td>Petrol</td>\n",
       "      <td>Lucknow</td>\n",
       "      <td>₹2,99,499</td>\n",
       "    </tr>\n",
       "  </tbody>\n",
       "</table>\n",
       "</div>"
      ],
      "text/plain": [
       "                         Name Transmission type         Variant    Mileage  \\\n",
       "3540         2020 Maruti Alto            Manual      VXI Manual   7,802 km   \n",
       "3541         2020 Maruti Alto            Manual      VXI Manual   4,749 km   \n",
       "3542     2019 Mahindra TUV300            Manual   T10 MT Manual  15,334 km   \n",
       "3543  2019 Maruti New Wagon-R            Manual  VXI 1.0 Manual  13,314 km   \n",
       "3544     2016 Maruti Alto K10            Manual      VXI Manual  16,451 km   \n",
       "\n",
       "          Owned Fuel type     City      Price  \n",
       "3540  1st Owner    Petrol  Lucknow  ₹3,83,899  \n",
       "3541  1st Owner    Petrol  Lucknow  ₹3,76,999  \n",
       "3542  1st Owner    Diesel  Lucknow  ₹8,67,299  \n",
       "3543  1st Owner    Petrol  Lucknow  ₹5,23,099  \n",
       "3544  1st Owner    Petrol  Lucknow  ₹2,99,499  "
      ]
     },
     "execution_count": 15,
     "metadata": {},
     "output_type": "execute_result"
    }
   ],
   "source": [
    "c24_df.tail() # Probing bottom 5 elements of the data frame"
   ]
  },
  {
   "cell_type": "code",
   "execution_count": 16,
   "metadata": {},
   "outputs": [],
   "source": [
    "c24_df.to_csv('car_data.csv') # Saving the dataframe as .csv"
   ]
  },
  {
   "cell_type": "code",
   "execution_count": 17,
   "metadata": {},
   "outputs": [],
   "source": [
    "driver.quit()"
   ]
  },
  {
   "cell_type": "markdown",
   "metadata": {},
   "source": [
    "## Data collection phase complete"
   ]
  }
 ],
 "metadata": {
  "kernelspec": {
   "display_name": "Python 3",
   "language": "python",
   "name": "python3"
  },
  "language_info": {
   "codemirror_mode": {
    "name": "ipython",
    "version": 3
   },
   "file_extension": ".py",
   "mimetype": "text/x-python",
   "name": "python",
   "nbconvert_exporter": "python",
   "pygments_lexer": "ipython3",
   "version": "3.8.5"
  }
 },
 "nbformat": 4,
 "nbformat_minor": 4
}
