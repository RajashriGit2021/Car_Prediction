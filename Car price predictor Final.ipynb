{
 "cells": [
  {
   "cell_type": "markdown",
   "metadata": {},
   "source": [
    "# CAR PRICE PREDICTION"
   ]
  },
  {
   "cell_type": "markdown",
   "metadata": {},
   "source": [
    "•\tBusiness Problem Framing\n",
    " With the covid 19 impact in the market, we have seen lot of changes in the car market. Now some cars are in demand hence making them costly and some are not in demand hence cheaper. With the change in market due to covid 19 impact, the previous ML models are not performing well.\n",
    "\n",
    "•\tConceptual Background of the Domain Problem\n",
    "A good knowledge of after sales market of cars is necessary. What makes a car valuable will be key.\n",
    "\n",
    "•\tMotivation for the Problem Undertaken\n",
    "Due to covid-19 the car market has changed a lot, some cars have shot up in popularity and some gone down in price.\n"
   ]
  },
  {
   "cell_type": "code",
   "execution_count": 1,
   "metadata": {},
   "outputs": [],
   "source": [
    "import pandas as pd\n",
    "import numpy as np\n",
    "import datetime\n",
    "import seaborn as sns\n",
    "import matplotlib.pyplot as plt\n",
    "%matplotlib inline\n",
    "import warnings\n",
    "warnings.filterwarnings('ignore')"
   ]
  },
  {
   "cell_type": "code",
   "execution_count": 2,
   "metadata": {},
   "outputs": [],
   "source": [
    "df = pd.read_csv(\"car_data.csv\", index_col = 'Unnamed: 0') # Importing the data\n",
    "pd.set_option('display.max_columns', 500)"
   ]
  },
  {
   "cell_type": "code",
   "execution_count": 3,
   "metadata": {},
   "outputs": [
    {
     "data": {
      "text/html": [
       "<div>\n",
       "<style scoped>\n",
       "    .dataframe tbody tr th:only-of-type {\n",
       "        vertical-align: middle;\n",
       "    }\n",
       "\n",
       "    .dataframe tbody tr th {\n",
       "        vertical-align: top;\n",
       "    }\n",
       "\n",
       "    .dataframe thead th {\n",
       "        text-align: right;\n",
       "    }\n",
       "</style>\n",
       "<table border=\"1\" class=\"dataframe\">\n",
       "  <thead>\n",
       "    <tr style=\"text-align: right;\">\n",
       "      <th></th>\n",
       "      <th>Name</th>\n",
       "      <th>Transmission type</th>\n",
       "      <th>Variant</th>\n",
       "      <th>Mileage</th>\n",
       "      <th>Owned</th>\n",
       "      <th>Fuel type</th>\n",
       "      <th>City</th>\n",
       "      <th>Price</th>\n",
       "    </tr>\n",
       "  </thead>\n",
       "  <tbody>\n",
       "    <tr>\n",
       "      <th>0</th>\n",
       "      <td>2013 Hyundai Verna</td>\n",
       "      <td>Manual</td>\n",
       "      <td>FLUIDIC 1.6 SX CRDI OPT Manual</td>\n",
       "      <td>53,517 km</td>\n",
       "      <td>1st Owner</td>\n",
       "      <td>Diesel</td>\n",
       "      <td>Rohtak</td>\n",
       "      <td>₹4,82,299</td>\n",
       "    </tr>\n",
       "    <tr>\n",
       "      <th>1</th>\n",
       "      <td>2018 Hyundai Creta</td>\n",
       "      <td>Manual</td>\n",
       "      <td>1.6 E + VTVT Manual</td>\n",
       "      <td>39,294 km</td>\n",
       "      <td>2nd Owner</td>\n",
       "      <td>Petrol</td>\n",
       "      <td>Rohtak</td>\n",
       "      <td>₹8,98,999</td>\n",
       "    </tr>\n",
       "    <tr>\n",
       "      <th>2</th>\n",
       "      <td>2017 Maruti Swift</td>\n",
       "      <td>Manual</td>\n",
       "      <td>VDI ABS Manual</td>\n",
       "      <td>69,894 km</td>\n",
       "      <td>1st Owner</td>\n",
       "      <td>Diesel</td>\n",
       "      <td>Rohtak</td>\n",
       "      <td>₹4,74,699</td>\n",
       "    </tr>\n",
       "    <tr>\n",
       "      <th>3</th>\n",
       "      <td>2018 Hyundai Elite i20</td>\n",
       "      <td>Manual</td>\n",
       "      <td>SPORTZ 1.2 Manual</td>\n",
       "      <td>48,582 km</td>\n",
       "      <td>1st Owner</td>\n",
       "      <td>Petrol</td>\n",
       "      <td>Rohtak</td>\n",
       "      <td>₹5,90,199</td>\n",
       "    </tr>\n",
       "    <tr>\n",
       "      <th>4</th>\n",
       "      <td>2020 MG HECTOR</td>\n",
       "      <td>Manual</td>\n",
       "      <td>SHARP HYBIRD PETROL MT Manual</td>\n",
       "      <td>3,094 km</td>\n",
       "      <td>1st Owner</td>\n",
       "      <td>Petrol</td>\n",
       "      <td>Rohtak</td>\n",
       "      <td>₹17,04,999</td>\n",
       "    </tr>\n",
       "  </tbody>\n",
       "</table>\n",
       "</div>"
      ],
      "text/plain": [
       "                     Name Transmission type                         Variant  \\\n",
       "0      2013 Hyundai Verna            Manual  FLUIDIC 1.6 SX CRDI OPT Manual   \n",
       "1      2018 Hyundai Creta            Manual             1.6 E + VTVT Manual   \n",
       "2       2017 Maruti Swift            Manual                  VDI ABS Manual   \n",
       "3  2018 Hyundai Elite i20            Manual               SPORTZ 1.2 Manual   \n",
       "4          2020 MG HECTOR            Manual   SHARP HYBIRD PETROL MT Manual   \n",
       "\n",
       "     Mileage      Owned Fuel type    City       Price  \n",
       "0  53,517 km  1st Owner    Diesel  Rohtak   ₹4,82,299  \n",
       "1  39,294 km  2nd Owner    Petrol  Rohtak   ₹8,98,999  \n",
       "2  69,894 km  1st Owner    Diesel  Rohtak   ₹4,74,699  \n",
       "3  48,582 km  1st Owner    Petrol  Rohtak   ₹5,90,199  \n",
       "4   3,094 km  1st Owner    Petrol  Rohtak  ₹17,04,999  "
      ]
     },
     "execution_count": 3,
     "metadata": {},
     "output_type": "execute_result"
    }
   ],
   "source": [
    "df.head() # Probing the data"
   ]
  },
  {
   "cell_type": "code",
   "execution_count": 4,
   "metadata": {},
   "outputs": [],
   "source": [
    "df.replace(',','', regex=True, inplace=True) # Replacing the transmission type from name as we already have it\n",
    "df['Variant'] = df['Variant'].str.replace('Manual', '')\n",
    "df['Variant'] = df['Variant'].str.replace('Automatic', '')"
   ]
  },
  {
   "cell_type": "code",
   "execution_count": 5,
   "metadata": {},
   "outputs": [
    {
     "data": {
      "text/html": [
       "<div>\n",
       "<style scoped>\n",
       "    .dataframe tbody tr th:only-of-type {\n",
       "        vertical-align: middle;\n",
       "    }\n",
       "\n",
       "    .dataframe tbody tr th {\n",
       "        vertical-align: top;\n",
       "    }\n",
       "\n",
       "    .dataframe thead th {\n",
       "        text-align: right;\n",
       "    }\n",
       "</style>\n",
       "<table border=\"1\" class=\"dataframe\">\n",
       "  <thead>\n",
       "    <tr style=\"text-align: right;\">\n",
       "      <th></th>\n",
       "      <th>Name</th>\n",
       "      <th>Transmission type</th>\n",
       "      <th>Variant</th>\n",
       "      <th>Mileage</th>\n",
       "      <th>Owned</th>\n",
       "      <th>Fuel type</th>\n",
       "      <th>City</th>\n",
       "      <th>Price</th>\n",
       "    </tr>\n",
       "  </thead>\n",
       "  <tbody>\n",
       "    <tr>\n",
       "      <th>3540</th>\n",
       "      <td>2020 Maruti Alto</td>\n",
       "      <td>Manual</td>\n",
       "      <td>VXI</td>\n",
       "      <td>7802 km</td>\n",
       "      <td>1st Owner</td>\n",
       "      <td>Petrol</td>\n",
       "      <td>Lucknow</td>\n",
       "      <td>₹383899</td>\n",
       "    </tr>\n",
       "    <tr>\n",
       "      <th>3541</th>\n",
       "      <td>2020 Maruti Alto</td>\n",
       "      <td>Manual</td>\n",
       "      <td>VXI</td>\n",
       "      <td>4749 km</td>\n",
       "      <td>1st Owner</td>\n",
       "      <td>Petrol</td>\n",
       "      <td>Lucknow</td>\n",
       "      <td>₹376999</td>\n",
       "    </tr>\n",
       "    <tr>\n",
       "      <th>3542</th>\n",
       "      <td>2019 Mahindra TUV300</td>\n",
       "      <td>Manual</td>\n",
       "      <td>T10 MT</td>\n",
       "      <td>15334 km</td>\n",
       "      <td>1st Owner</td>\n",
       "      <td>Diesel</td>\n",
       "      <td>Lucknow</td>\n",
       "      <td>₹867299</td>\n",
       "    </tr>\n",
       "    <tr>\n",
       "      <th>3543</th>\n",
       "      <td>2019 Maruti New Wagon-R</td>\n",
       "      <td>Manual</td>\n",
       "      <td>VXI 1.0</td>\n",
       "      <td>13314 km</td>\n",
       "      <td>1st Owner</td>\n",
       "      <td>Petrol</td>\n",
       "      <td>Lucknow</td>\n",
       "      <td>₹523099</td>\n",
       "    </tr>\n",
       "    <tr>\n",
       "      <th>3544</th>\n",
       "      <td>2016 Maruti Alto K10</td>\n",
       "      <td>Manual</td>\n",
       "      <td>VXI</td>\n",
       "      <td>16451 km</td>\n",
       "      <td>1st Owner</td>\n",
       "      <td>Petrol</td>\n",
       "      <td>Lucknow</td>\n",
       "      <td>₹299499</td>\n",
       "    </tr>\n",
       "  </tbody>\n",
       "</table>\n",
       "</div>"
      ],
      "text/plain": [
       "                         Name Transmission type   Variant   Mileage  \\\n",
       "3540         2020 Maruti Alto            Manual      VXI    7802 km   \n",
       "3541         2020 Maruti Alto            Manual      VXI    4749 km   \n",
       "3542     2019 Mahindra TUV300            Manual   T10 MT   15334 km   \n",
       "3543  2019 Maruti New Wagon-R            Manual  VXI 1.0   13314 km   \n",
       "3544     2016 Maruti Alto K10            Manual      VXI   16451 km   \n",
       "\n",
       "          Owned Fuel type     City    Price  \n",
       "3540  1st Owner    Petrol  Lucknow  ₹383899  \n",
       "3541  1st Owner    Petrol  Lucknow  ₹376999  \n",
       "3542  1st Owner    Diesel  Lucknow  ₹867299  \n",
       "3543  1st Owner    Petrol  Lucknow  ₹523099  \n",
       "3544  1st Owner    Petrol  Lucknow  ₹299499  "
      ]
     },
     "execution_count": 5,
     "metadata": {},
     "output_type": "execute_result"
    }
   ],
   "source": [
    "df.tail()"
   ]
  },
  {
   "cell_type": "code",
   "execution_count": 6,
   "metadata": {},
   "outputs": [
    {
     "data": {
      "text/plain": [
       "(3545, 8)"
      ]
     },
     "execution_count": 6,
     "metadata": {},
     "output_type": "execute_result"
    }
   ],
   "source": [
    "df.shape # We have 5339 rows and 8 coulmns"
   ]
  },
  {
   "cell_type": "code",
   "execution_count": 7,
   "metadata": {},
   "outputs": [
    {
     "name": "stdout",
     "output_type": "stream",
     "text": [
      "<class 'pandas.core.frame.DataFrame'>\n",
      "Int64Index: 3545 entries, 0 to 3544\n",
      "Data columns (total 8 columns):\n",
      " #   Column             Non-Null Count  Dtype \n",
      "---  ------             --------------  ----- \n",
      " 0   Name               3545 non-null   object\n",
      " 1   Transmission type  3468 non-null   object\n",
      " 2   Variant            3545 non-null   object\n",
      " 3   Mileage            3545 non-null   object\n",
      " 4   Owned              3545 non-null   object\n",
      " 5   Fuel type          3545 non-null   object\n",
      " 6   City               3545 non-null   object\n",
      " 7   Price              3545 non-null   object\n",
      "dtypes: object(8)\n",
      "memory usage: 249.3+ KB\n"
     ]
    }
   ],
   "source": [
    "df.info() # Basic info about data types, we will need to convert some of them to integer"
   ]
  },
  {
   "cell_type": "code",
   "execution_count": 8,
   "metadata": {},
   "outputs": [
    {
     "data": {
      "text/plain": [
       "Name                  385\n",
       "Transmission type       2\n",
       "Variant               478\n",
       "Mileage              2128\n",
       "Owned                   4\n",
       "Fuel type               4\n",
       "City                   22\n",
       "Price                1883\n",
       "dtype: int64"
      ]
     },
     "execution_count": 8,
     "metadata": {},
     "output_type": "execute_result"
    }
   ],
   "source": [
    "df.nunique() # Unique values in each column"
   ]
  },
  {
   "cell_type": "code",
   "execution_count": 9,
   "metadata": {},
   "outputs": [
    {
     "data": {
      "text/plain": [
       "Name                  0\n",
       "Transmission type    77\n",
       "Variant               0\n",
       "Mileage               0\n",
       "Owned                 0\n",
       "Fuel type             0\n",
       "City                  0\n",
       "Price                 0\n",
       "dtype: int64"
      ]
     },
     "execution_count": 9,
     "metadata": {},
     "output_type": "execute_result"
    }
   ],
   "source": [
    "df.isnull().sum() # Some value in transmission type are missing"
   ]
  },
  {
   "cell_type": "code",
   "execution_count": 10,
   "metadata": {},
   "outputs": [
    {
     "data": {
      "text/plain": [
       "<AxesSubplot:>"
      ]
     },
     "execution_count": 10,
     "metadata": {},
     "output_type": "execute_result"
    },
    {
     "data": {
      "image/png": "[encoded data removed]",
      "text/plain": [
       "<Figure size 432x288 with 1 Axes>"
      ]
     },
     "metadata": {
      "needs_background": "light"
     },
     "output_type": "display_data"
    }
   ],
   "source": [
    "df['Transmission type'].value_counts().plot.bar() "
   ]
  },
  {
   "cell_type": "markdown",
   "metadata": {},
   "source": [
    "Most of the cars are Manual transmission."
   ]
  },
  {
   "cell_type": "code",
   "execution_count": 11,
   "metadata": {},
   "outputs": [],
   "source": [
    "df['Year'] = df.Name.str[:4] # Extracting year from name, and storing it as integer\n",
    "df['Year'] = df['Year'].astype(int)"
   ]
  },
  {
   "cell_type": "code",
   "execution_count": 12,
   "metadata": {},
   "outputs": [],
   "source": [
    "df.Name = df.Name.str[4:] # Slicing the name so that it doesn't contain the year"
   ]
  },
  {
   "cell_type": "code",
   "execution_count": 13,
   "metadata": {},
   "outputs": [],
   "source": [
    "df.Mileage = df.Mileage.str[:-3] # Removing ' km' form end of Mileage and converting it to integer\n",
    "df['Mileage'] = df['Mileage'].astype(int)"
   ]
  },
  {
   "cell_type": "code",
   "execution_count": 14,
   "metadata": {},
   "outputs": [],
   "source": [
    "df.Price = df.Price.str[1:] # Removing the rupee symbol '₹' from price, and changign type to integer\n",
    "df ['Price'] = df['Price'].astype(int)"
   ]
  },
  {
   "cell_type": "code",
   "execution_count": 15,
   "metadata": {},
   "outputs": [],
   "source": [
    "df['Manufacturer'] = df['Name'].str.split(' ').str[1] # Removing white space, and separating Manufacturer name form car name\n",
    "df['Model'] = df['Name'].str.split(' ').str[2]"
   ]
  },
  {
   "cell_type": "code",
   "execution_count": 16,
   "metadata": {},
   "outputs": [
    {
     "data": {
      "text/html": [
       "<div>\n",
       "<style scoped>\n",
       "    .dataframe tbody tr th:only-of-type {\n",
       "        vertical-align: middle;\n",
       "    }\n",
       "\n",
       "    .dataframe tbody tr th {\n",
       "        vertical-align: top;\n",
       "    }\n",
       "\n",
       "    .dataframe thead th {\n",
       "        text-align: right;\n",
       "    }\n",
       "</style>\n",
       "<table border=\"1\" class=\"dataframe\">\n",
       "  <thead>\n",
       "    <tr style=\"text-align: right;\">\n",
       "      <th></th>\n",
       "      <th>Name</th>\n",
       "      <th>Transmission type</th>\n",
       "      <th>Variant</th>\n",
       "      <th>Mileage</th>\n",
       "      <th>Owned</th>\n",
       "      <th>Fuel type</th>\n",
       "      <th>City</th>\n",
       "      <th>Price</th>\n",
       "      <th>Year</th>\n",
       "      <th>Manufacturer</th>\n",
       "      <th>Model</th>\n",
       "    </tr>\n",
       "  </thead>\n",
       "  <tbody>\n",
       "    <tr>\n",
       "      <th>0</th>\n",
       "      <td>Hyundai Verna</td>\n",
       "      <td>Manual</td>\n",
       "      <td>FLUIDIC 1.6 SX CRDI OPT</td>\n",
       "      <td>53517</td>\n",
       "      <td>1st Owner</td>\n",
       "      <td>Diesel</td>\n",
       "      <td>Rohtak</td>\n",
       "      <td>482299</td>\n",
       "      <td>2013</td>\n",
       "      <td>Hyundai</td>\n",
       "      <td>Verna</td>\n",
       "    </tr>\n",
       "    <tr>\n",
       "      <th>1</th>\n",
       "      <td>Hyundai Creta</td>\n",
       "      <td>Manual</td>\n",
       "      <td>1.6 E + VTVT</td>\n",
       "      <td>39294</td>\n",
       "      <td>2nd Owner</td>\n",
       "      <td>Petrol</td>\n",
       "      <td>Rohtak</td>\n",
       "      <td>898999</td>\n",
       "      <td>2018</td>\n",
       "      <td>Hyundai</td>\n",
       "      <td>Creta</td>\n",
       "    </tr>\n",
       "    <tr>\n",
       "      <th>2</th>\n",
       "      <td>Maruti Swift</td>\n",
       "      <td>Manual</td>\n",
       "      <td>VDI ABS</td>\n",
       "      <td>69894</td>\n",
       "      <td>1st Owner</td>\n",
       "      <td>Diesel</td>\n",
       "      <td>Rohtak</td>\n",
       "      <td>474699</td>\n",
       "      <td>2017</td>\n",
       "      <td>Maruti</td>\n",
       "      <td>Swift</td>\n",
       "    </tr>\n",
       "    <tr>\n",
       "      <th>3</th>\n",
       "      <td>Hyundai Elite i20</td>\n",
       "      <td>Manual</td>\n",
       "      <td>SPORTZ 1.2</td>\n",
       "      <td>48582</td>\n",
       "      <td>1st Owner</td>\n",
       "      <td>Petrol</td>\n",
       "      <td>Rohtak</td>\n",
       "      <td>590199</td>\n",
       "      <td>2018</td>\n",
       "      <td>Hyundai</td>\n",
       "      <td>Elite</td>\n",
       "    </tr>\n",
       "    <tr>\n",
       "      <th>4</th>\n",
       "      <td>MG HECTOR</td>\n",
       "      <td>Manual</td>\n",
       "      <td>SHARP HYBIRD PETROL MT</td>\n",
       "      <td>3094</td>\n",
       "      <td>1st Owner</td>\n",
       "      <td>Petrol</td>\n",
       "      <td>Rohtak</td>\n",
       "      <td>1704999</td>\n",
       "      <td>2020</td>\n",
       "      <td>MG</td>\n",
       "      <td>HECTOR</td>\n",
       "    </tr>\n",
       "  </tbody>\n",
       "</table>\n",
       "</div>"
      ],
      "text/plain": [
       "                 Name Transmission type                   Variant  Mileage  \\\n",
       "0       Hyundai Verna            Manual  FLUIDIC 1.6 SX CRDI OPT     53517   \n",
       "1       Hyundai Creta            Manual             1.6 E + VTVT     39294   \n",
       "2        Maruti Swift            Manual                  VDI ABS     69894   \n",
       "3   Hyundai Elite i20            Manual               SPORTZ 1.2     48582   \n",
       "4           MG HECTOR            Manual   SHARP HYBIRD PETROL MT      3094   \n",
       "\n",
       "       Owned Fuel type    City    Price  Year Manufacturer   Model  \n",
       "0  1st Owner    Diesel  Rohtak   482299  2013      Hyundai   Verna  \n",
       "1  2nd Owner    Petrol  Rohtak   898999  2018      Hyundai   Creta  \n",
       "2  1st Owner    Diesel  Rohtak   474699  2017       Maruti   Swift  \n",
       "3  1st Owner    Petrol  Rohtak   590199  2018      Hyundai   Elite  \n",
       "4  1st Owner    Petrol  Rohtak  1704999  2020           MG  HECTOR  "
      ]
     },
     "execution_count": 16,
     "metadata": {},
     "output_type": "execute_result"
    }
   ],
   "source": [
    "df.head() # Checking if everythgin worked right, it has."
   ]
  },
  {
   "cell_type": "code",
   "execution_count": 17,
   "metadata": {},
   "outputs": [
    {
     "data": {
      "text/plain": [
       "Manual       3091\n",
       "Automatic     377\n",
       "Name: Transmission type, dtype: int64"
      ]
     },
     "execution_count": 17,
     "metadata": {},
     "output_type": "execute_result"
    }
   ],
   "source": [
    "df['Transmission type'].value_counts() # Value counts of transmission"
   ]
  },
  {
   "cell_type": "code",
   "execution_count": 18,
   "metadata": {},
   "outputs": [
    {
     "data": {
      "text/plain": [
       "1st Owner    2960\n",
       "2nd Owner     524\n",
       "3rd Owner      58\n",
       "4th Owner       3\n",
       "Name: Owned, dtype: int64"
      ]
     },
     "execution_count": 18,
     "metadata": {},
     "output_type": "execute_result"
    }
   ],
   "source": [
    "df['Owned'].value_counts() # Value counts of Owned"
   ]
  },
  {
   "cell_type": "code",
   "execution_count": 19,
   "metadata": {},
   "outputs": [
    {
     "data": {
      "text/plain": [
       "Petrol          2497\n",
       "Diesel          1002\n",
       "Petrol + CNG      45\n",
       "Petrol + LPG       1\n",
       "Name: Fuel type, dtype: int64"
      ]
     },
     "execution_count": 19,
     "metadata": {},
     "output_type": "execute_result"
    }
   ],
   "source": [
    "df['Fuel type'].value_counts() # Value counts of Fuel type"
   ]
  },
  {
   "cell_type": "code",
   "execution_count": 20,
   "metadata": {},
   "outputs": [
    {
     "data": {
      "text/plain": [
       "Pune          400\n",
       "Mumbai        400\n",
       "Jaipur        273\n",
       "Surat         269\n",
       "Ahmedabad     269\n",
       "Bengaluru     255\n",
       "Chennai       223\n",
       "Vadodara      216\n",
       "Ludhiana      153\n",
       "Chandigarh    153\n",
       "Kolkata       148\n",
       "Delhi         123\n",
       "Panipat       117\n",
       "Rohtak        116\n",
       "Kochi         116\n",
       "Meerut        110\n",
       "Nasik          73\n",
       "Hyderabad      41\n",
       "Lucknow        33\n",
       "Rajkot         20\n",
       "Mysore         20\n",
       "Bhopal         17\n",
       "Name: City, dtype: int64"
      ]
     },
     "execution_count": 20,
     "metadata": {},
     "output_type": "execute_result"
    }
   ],
   "source": [
    "df['City'].value_counts() # Value counts of City"
   ]
  },
  {
   "cell_type": "code",
   "execution_count": 21,
   "metadata": {},
   "outputs": [
    {
     "data": {
      "text/html": [
       "<div>\n",
       "<style scoped>\n",
       "    .dataframe tbody tr th:only-of-type {\n",
       "        vertical-align: middle;\n",
       "    }\n",
       "\n",
       "    .dataframe tbody tr th {\n",
       "        vertical-align: top;\n",
       "    }\n",
       "\n",
       "    .dataframe thead th {\n",
       "        text-align: right;\n",
       "    }\n",
       "</style>\n",
       "<table border=\"1\" class=\"dataframe\">\n",
       "  <thead>\n",
       "    <tr style=\"text-align: right;\">\n",
       "      <th></th>\n",
       "      <th>Mileage</th>\n",
       "      <th>Price</th>\n",
       "      <th>Year</th>\n",
       "    </tr>\n",
       "  </thead>\n",
       "  <tbody>\n",
       "    <tr>\n",
       "      <th>count</th>\n",
       "      <td>3545.000000</td>\n",
       "      <td>3.545000e+03</td>\n",
       "      <td>3545.000000</td>\n",
       "    </tr>\n",
       "    <tr>\n",
       "      <th>mean</th>\n",
       "      <td>42015.167842</td>\n",
       "      <td>5.938214e+05</td>\n",
       "      <td>2017.024824</td>\n",
       "    </tr>\n",
       "    <tr>\n",
       "      <th>std</th>\n",
       "      <td>34391.964045</td>\n",
       "      <td>2.971286e+05</td>\n",
       "      <td>2.222259</td>\n",
       "    </tr>\n",
       "    <tr>\n",
       "      <th>min</th>\n",
       "      <td>120.000000</td>\n",
       "      <td>1.263990e+05</td>\n",
       "      <td>2008.000000</td>\n",
       "    </tr>\n",
       "    <tr>\n",
       "      <th>25%</th>\n",
       "      <td>16358.000000</td>\n",
       "      <td>3.943990e+05</td>\n",
       "      <td>2016.000000</td>\n",
       "    </tr>\n",
       "    <tr>\n",
       "      <th>50%</th>\n",
       "      <td>32576.000000</td>\n",
       "      <td>5.254990e+05</td>\n",
       "      <td>2017.000000</td>\n",
       "    </tr>\n",
       "    <tr>\n",
       "      <th>75%</th>\n",
       "      <td>61003.000000</td>\n",
       "      <td>7.099990e+05</td>\n",
       "      <td>2019.000000</td>\n",
       "    </tr>\n",
       "    <tr>\n",
       "      <th>max</th>\n",
       "      <td>280921.000000</td>\n",
       "      <td>2.322099e+06</td>\n",
       "      <td>2021.000000</td>\n",
       "    </tr>\n",
       "  </tbody>\n",
       "</table>\n",
       "</div>"
      ],
      "text/plain": [
       "             Mileage         Price         Year\n",
       "count    3545.000000  3.545000e+03  3545.000000\n",
       "mean    42015.167842  5.938214e+05  2017.024824\n",
       "std     34391.964045  2.971286e+05     2.222259\n",
       "min       120.000000  1.263990e+05  2008.000000\n",
       "25%     16358.000000  3.943990e+05  2016.000000\n",
       "50%     32576.000000  5.254990e+05  2017.000000\n",
       "75%     61003.000000  7.099990e+05  2019.000000\n",
       "max    280921.000000  2.322099e+06  2021.000000"
      ]
     },
     "execution_count": 21,
     "metadata": {},
     "output_type": "execute_result"
    }
   ],
   "source": [
    "df.describe() # Cheking some basic stats about our data"
   ]
  },
  {
   "cell_type": "markdown",
   "metadata": {},
   "source": [
    "Minimum Mileage 350 km;\n",
    "Maximum Mileage 1,000,000 km\n",
    "\n",
    "Oldest car: 2008;\n",
    "Newest car: 2021\n",
    "\n",
    "Minimum price: Rs. 126,000;\n",
    "Maximum price of car: Rs. 29,380,000"
   ]
  },
  {
   "cell_type": "markdown",
   "metadata": {},
   "source": [
    "#### EDA"
   ]
  },
  {
   "cell_type": "code",
   "execution_count": 22,
   "metadata": {},
   "outputs": [
    {
     "data": {
      "image/png": "[encoded data removed]",
      "text/plain": [
       "<Figure size 1440x720 with 1 Axes>"
      ]
     },
     "metadata": {
      "needs_background": "light"
     },
     "output_type": "display_data"
    }
   ],
   "source": [
    "# Looking at distribution of selling price of car, which is our target variable.\n",
    "# We can observe that the distribution is right skewed\n",
    "\n",
    "df['Price'].hist(bins=100,figsize=(20,10),rwidth = 0.75)\n",
    "plt.ticklabel_format(style='plain', axis='x')\n",
    "plt.title('Car Prices')\n",
    "plt.show()"
   ]
  },
  {
   "cell_type": "code",
   "execution_count": 23,
   "metadata": {},
   "outputs": [
    {
     "data": {
      "text/plain": [
       "<AxesSubplot:xlabel='Mileage', ylabel='Count'>"
      ]
     },
     "execution_count": 23,
     "metadata": {},
     "output_type": "execute_result"
    },
    {
     "data": {
      "image/png": "[encoded data removed]",
      "text/plain": [
       "<Figure size 432x288 with 1 Axes>"
      ]
     },
     "metadata": {
      "needs_background": "light"
     },
     "output_type": "display_data"
    }
   ],
   "source": [
    "sns.histplot(df['Mileage'],bins = 100 , kde = True, color = 'green') # Most of the mileage of cars is less that 200,000 km"
   ]
  },
  {
   "cell_type": "code",
   "execution_count": 24,
   "metadata": {},
   "outputs": [
    {
     "data": {
      "text/plain": [
       "<AxesSubplot:xlabel='Year', ylabel='Count'>"
      ]
     },
     "execution_count": 24,
     "metadata": {},
     "output_type": "execute_result"
    },
    {
     "data": {
      "image/png": "[encoded data removed]",
      "text/plain": [
       "<Figure size 432x288 with 1 Axes>"
      ]
     },
     "metadata": {
      "needs_background": "light"
     },
     "output_type": "display_data"
    }
   ],
   "source": [
    "sns.histplot(df['Year'],bins = 100 , kde = True, color = 'green') #Most of the year range from 2012-2020"
   ]
  },
  {
   "cell_type": "markdown",
   "metadata": {},
   "source": [
    "We can see that most of the cars in this data were bought between 2015 and 2020"
   ]
  },
  {
   "cell_type": "code",
   "execution_count": 25,
   "metadata": {},
   "outputs": [
    {
     "data": {
      "image/png": "[encoded data removed]",
      "text/plain": [
       "<Figure size 864x576 with 1 Axes>"
      ]
     },
     "metadata": {
      "needs_background": "light"
     },
     "output_type": "display_data"
    }
   ],
   "source": [
    "df_2 = df.groupby('Year').mean()\n",
    "df_2.reset_index(inplace=True)\n",
    "fig, ax = plt.subplots(figsize=(12, 8))\n",
    "sns.barplot(x='Year', y='Price', data=df_2,ax=ax);"
   ]
  },
  {
   "cell_type": "markdown",
   "metadata": {},
   "source": [
    "Average price of car vs year; we can see the average price of car increases if the car is not very old."
   ]
  },
  {
   "cell_type": "code",
   "execution_count": 26,
   "metadata": {},
   "outputs": [
    {
     "data": {
      "image/png": "[encoded data removed]",
      "text/plain": [
       "<Figure size 864x576 with 1 Axes>"
      ]
     },
     "metadata": {
      "needs_background": "light"
     },
     "output_type": "display_data"
    }
   ],
   "source": [
    "df_2 = df.groupby('Year').mean()\n",
    "df_2.reset_index(inplace=True)\n",
    "fig, ax = plt.subplots(figsize=(12, 8))\n",
    "sns.barplot(x='Year', y='Mileage', data=df_2,ax=ax);"
   ]
  },
  {
   "cell_type": "markdown",
   "metadata": {},
   "source": [
    "Average mileage in km on a car, based on the year the car was manufactured; we can observe that the mileage is more for older cars; as expected."
   ]
  },
  {
   "cell_type": "code",
   "execution_count": 27,
   "metadata": {},
   "outputs": [
    {
     "data": {
      "image/png": "[encoded data removed]",
      "text/plain": [
       "<Figure size 576x864 with 1 Axes>"
      ]
     },
     "metadata": {
      "needs_background": "light"
     },
     "output_type": "display_data"
    }
   ],
   "source": [
    "f,ax1 = plt.subplots(figsize = (8,12))\n",
    "sns.pointplot(y = df.City, x = df['Price'], join=True, data= df )\n",
    "plt.xticks(rotation = 90)\n",
    "plt.title(\"Cost of car per city\",{'fontsize':20})\n",
    "plt.xlabel('Average price in INR',{'fontsize' : 'large'})\n",
    "plt.ylabel('City name',{'fontsize':'large'})\n",
    "plt.show()"
   ]
  },
  {
   "cell_type": "markdown",
   "metadata": {},
   "source": [
    "Average price of car according to city in which it was listed. Bhopal has the most expensive cars and Mysore has the least expensive cars."
   ]
  },
  {
   "cell_type": "code",
   "execution_count": 28,
   "metadata": {},
   "outputs": [
    {
     "data": {
      "image/png": "[encoded data removed]",
      "text/plain": [
       "<Figure size 576x864 with 1 Axes>"
      ]
     },
     "metadata": {
      "needs_background": "light"
     },
     "output_type": "display_data"
    }
   ],
   "source": [
    "f,ax1 = plt.subplots(figsize = (8,12))\n",
    "sns.pointplot(y = df.City, x = df['Mileage'], join=True, data= df )\n",
    "plt.xticks(rotation = 90)\n",
    "plt.title(\"Mileage per city\",{'fontsize':20})\n",
    "plt.xlabel('Average mileage in km',{'fontsize' : 'large'})\n",
    "plt.ylabel('City name',{'fontsize':'large'})\n",
    "plt.show()"
   ]
  },
  {
   "cell_type": "markdown",
   "metadata": {},
   "source": [
    "Average mileage of car (in km) according to city in which it was listed. Nashik has the most driven cars and Kolkata has the least driven cars."
   ]
  },
  {
   "cell_type": "markdown",
   "metadata": {},
   "source": [
    "Checking the data for some cars"
   ]
  },
  {
   "cell_type": "code",
   "execution_count": 29,
   "metadata": {},
   "outputs": [
    {
     "data": {
      "text/plain": [
       "Mileage    2068\n",
       "dtype: int64"
      ]
     },
     "execution_count": 29,
     "metadata": {},
     "output_type": "execute_result"
    }
   ],
   "source": [
    "df[['Mileage']].idxmax() # Which df index has maximum mileage"
   ]
  },
  {
   "cell_type": "code",
   "execution_count": 30,
   "metadata": {},
   "outputs": [
    {
     "data": {
      "text/plain": [
       "Name                  Maruti Baleno\n",
       "Transmission type            Manual\n",
       "Variant              DELTA 1.2 K12 \n",
       "Mileage                         216\n",
       "Owned                     1st Owner\n",
       "Fuel type                    Petrol\n",
       "City                      Ahmedabad\n",
       "Price                        705499\n",
       "Year                           2020\n",
       "Manufacturer                 Maruti\n",
       "Model                        Baleno\n",
       "Name: 1879, dtype: object"
      ]
     },
     "execution_count": 30,
     "metadata": {},
     "output_type": "execute_result"
    }
   ],
   "source": [
    "df.iloc[1879] # This car has max mileage"
   ]
  },
  {
   "cell_type": "code",
   "execution_count": 31,
   "metadata": {},
   "outputs": [
    {
     "data": {
      "text/plain": [
       "Price    77\n",
       "dtype: int64"
      ]
     },
     "execution_count": 31,
     "metadata": {},
     "output_type": "execute_result"
    }
   ],
   "source": [
    "df[['Price']].idxmax() # Which df index has maximum price"
   ]
  },
  {
   "cell_type": "code",
   "execution_count": 32,
   "metadata": {},
   "outputs": [
    {
     "data": {
      "text/plain": [
       "Name                  Renault TRIBER\n",
       "Transmission type             Manual\n",
       "Variant                     1.0 RXZ \n",
       "Mileage                        12226\n",
       "Owned                      1st Owner\n",
       "Fuel type                     Petrol\n",
       "City                       Ahmedabad\n",
       "Price                         561099\n",
       "Year                            2019\n",
       "Manufacturer                 Renault\n",
       "Model                         TRIBER\n",
       "Name: 2007, dtype: object"
      ]
     },
     "execution_count": 32,
     "metadata": {},
     "output_type": "execute_result"
    }
   ],
   "source": [
    "df.iloc[2007] # This car has max price"
   ]
  },
  {
   "cell_type": "code",
   "execution_count": 33,
   "metadata": {},
   "outputs": [
    {
     "data": {
      "text/plain": [
       "Price    47\n",
       "dtype: int64"
      ]
     },
     "execution_count": 33,
     "metadata": {},
     "output_type": "execute_result"
    }
   ],
   "source": [
    "df[['Price']].idxmin() # Which df index has minimum price"
   ]
  },
  {
   "cell_type": "code",
   "execution_count": 34,
   "metadata": {},
   "outputs": [
    {
     "data": {
      "text/plain": [
       "Name                  Maruti Eeco\n",
       "Transmission type          Manual\n",
       "Variant                    7 STR \n",
       "Mileage                     72019\n",
       "Owned                   1st Owner\n",
       "Fuel type                  Petrol\n",
       "City                       Rohtak\n",
       "Price                      329399\n",
       "Year                         2018\n",
       "Manufacturer               Maruti\n",
       "Model                        Eeco\n",
       "Name: 92, dtype: object"
      ]
     },
     "execution_count": 34,
     "metadata": {},
     "output_type": "execute_result"
    }
   ],
   "source": [
    "df.iloc[92] # This car has min price"
   ]
  },
  {
   "cell_type": "code",
   "execution_count": 35,
   "metadata": {},
   "outputs": [
    {
     "data": {
      "text/plain": [
       "Mileage    1265\n",
       "dtype: int64"
      ]
     },
     "execution_count": 35,
     "metadata": {},
     "output_type": "execute_result"
    }
   ],
   "source": [
    "df[['Mileage']].idxmin() # Which df index has minimum mileage"
   ]
  },
  {
   "cell_type": "code",
   "execution_count": 36,
   "metadata": {},
   "outputs": [
    {
     "data": {
      "text/plain": [
       "Name                        Ford Ecosport\n",
       "Transmission type                  Manual\n",
       "Variant              1.5 TITANIUM TI VCT \n",
       "Mileage                             11869\n",
       "Owned                           1st Owner\n",
       "Fuel type                          Petrol\n",
       "City                            Ahmedabad\n",
       "Price                              749499\n",
       "Year                                 2019\n",
       "Manufacturer                         Ford\n",
       "Model                            Ecosport\n",
       "Name: 2059, dtype: object"
      ]
     },
     "execution_count": 36,
     "metadata": {},
     "output_type": "execute_result"
    }
   ],
   "source": [
    "df.iloc[2059] # This car has min mileage"
   ]
  },
  {
   "cell_type": "markdown",
   "metadata": {},
   "source": [
    "#### Pre-processing data"
   ]
  },
  {
   "cell_type": "code",
   "execution_count": 37,
   "metadata": {},
   "outputs": [
    {
     "data": {
      "text/plain": [
       "Name                  109\n",
       "Transmission type       2\n",
       "Variant               478\n",
       "Mileage              2128\n",
       "Owned                   4\n",
       "Fuel type               4\n",
       "City                   22\n",
       "Price                1883\n",
       "Year                   14\n",
       "Manufacturer           22\n",
       "Model                  93\n",
       "dtype: int64"
      ]
     },
     "execution_count": 37,
     "metadata": {},
     "output_type": "execute_result"
    }
   ],
   "source": [
    "df.nunique() # Now to simplify the data"
   ]
  },
  {
   "cell_type": "code",
   "execution_count": 38,
   "metadata": {},
   "outputs": [
    {
     "data": {
      "text/plain": [
       "Maruti        1960\n",
       "Hyundai        768\n",
       "Ford           206\n",
       "Honda          168\n",
       "Renault         86\n",
       "Volkswagen      76\n",
       "Tata            63\n",
       "Toyota          53\n",
       "Mahindra        42\n",
       "KIA             27\n",
       "MG              22\n",
       "Datsun          15\n",
       "Jeep            14\n",
       "Skoda           12\n",
       "Audi             9\n",
       "BMW              8\n",
       "Mercedes         6\n",
       "Ssangyong        4\n",
       "Nissan           3\n",
       "HYUNDAI          1\n",
       "Chevrolet        1\n",
       "RENAULT          1\n",
       "Name: Manufacturer, dtype: int64"
      ]
     },
     "execution_count": 38,
     "metadata": {},
     "output_type": "execute_result"
    }
   ],
   "source": [
    "df['Manufacturer'].value_counts() # We have a lot of manufacturers"
   ]
  },
  {
   "cell_type": "markdown",
   "metadata": {},
   "source": [
    "Now I will simplify the engine size and convert it to a range, I will also convert various variants of engine to get a better description."
   ]
  },
  {
   "cell_type": "code",
   "execution_count": 39,
   "metadata": {},
   "outputs": [],
   "source": [
    "df.loc[df['Variant'].str.contains('LXI', case=False), 'Variant'] = 'Basic Petrol'\n",
    "df.loc[df['Variant'].str.contains('VXI', case=False), 'Variant'] = 'Middle Petrol'\n",
    "df.loc[df['Variant'].str.contains('ZXI', case=False), 'Variant'] = 'Top Petrol'\n",
    "df.loc[df['Variant'].str.contains('VDI', case=False), 'Variant'] = 'Basic Diesel'\n",
    "df.loc[df['Variant'].str.contains('VDI', case=False), 'Variant'] = 'Middle Diesel'\n",
    "df.loc[df['Variant'].str.contains('ZDI', case=False), 'Variant'] = 'Top Diesel'\n",
    "df.loc[df['Variant'].str.contains('LUXURY', case=False), 'Variant'] = 'Luxury'\n",
    "df.loc[df['Variant'].str.contains('1.0', case=False), 'Variant'] = '1.0-1.5 Liter'\n",
    "df.loc[df['Variant'].str.contains('1.1', case=False), 'Variant'] = '1.0-1.5 Liter'\n",
    "df.loc[df['Variant'].str.contains('1.2', case=False), 'Variant'] = '1.0-1.5 Liter'\n",
    "df.loc[df['Variant'].str.contains('1.3', case=False), 'Variant'] = '1.0-1.5 Liter'\n",
    "df.loc[df['Variant'].str.contains('1.4', case=False), 'Variant'] = '1.0-1.5 Liter'\n",
    "df.loc[df['Variant'].str.contains('1.5', case=False), 'Variant'] = '1.0-1.5 Liter'\n",
    "df.loc[df['Variant'].str.contains('1.6', case=False), 'Variant'] = '1.5-2.0 Liter'\n",
    "df.loc[df['Variant'].str.contains('1.7', case=False), 'Variant'] = '1.5-2.0 Liter'\n",
    "df.loc[df['Variant'].str.contains('1.8', case=False), 'Variant'] = '1.5-2.0 Liter'\n",
    "df.loc[df['Variant'].str.contains('1.9', case=False), 'Variant'] = '1.5-2.0 Liter'\n",
    "df.loc[df['Variant'].str.contains('2.0', case=False), 'Variant'] = '1.5-2.0 Liter'\n",
    "df.loc[df['Variant'].str.contains('2.1', case=False), 'Variant'] = '2.0+ Liter'\n",
    "df.loc[df['Variant'].str.contains('2.2', case=False), 'Variant'] = '2.0+ Liter'\n",
    "df.loc[df['Variant'].str.contains('2.3', case=False), 'Variant'] = '2.0+ Liter'\n",
    "df.loc[df['Variant'].str.contains('2.4', case=False), 'Variant'] = '2.0+ Liter'\n",
    "df.loc[df['Variant'].str.contains('2.5', case=False), 'Variant'] = '2.0+ Liter'\n",
    "df.loc[df['Variant'].str.contains('2.6', case=False), 'Variant'] = '2.0+ Liter'\n",
    "df.loc[df['Variant'].str.contains('2.7', case=False), 'Variant'] = '2.0+ Liter'\n",
    "df.loc[df['Variant'].str.contains('2.8', case=False), 'Variant'] = '2.0+ Liter'\n",
    "df.loc[df['Variant'].str.contains('2.9', case=False), 'Variant'] = '2.0+ Liter'\n",
    "df.loc[df['Variant'].str.contains('3.0', case=False), 'Variant'] = '2.0+ Liter'\n",
    "df.loc[df['Variant'].str.contains('3.1', case=False), 'Variant'] = '2.0+ Liter'\n",
    "df.loc[df['Variant'].str.contains('3.2', case=False), 'Variant'] = '2.0+ Liter'\n",
    "df.loc[df['Variant'].str.contains('3.3', case=False), 'Variant'] = '2.0+ Liter'\n",
    "df.loc[df['Variant'].str.contains('3.4', case=False), 'Variant'] = '2.0+ Liter'\n",
    "df.loc[df['Variant'].str.contains('3.5', case=False), 'Variant'] = '2.0+ Liter'\n",
    "df.loc[df['Variant'].str.contains('5 STR WITH AC PLUSHTR', case=False), 'Variant'] = '1.0-1.5 Liter'\n",
    "df.loc[df['Variant'].str.contains('RXL', case=False), 'Variant'] = '1.0-1.5 Liter'\n",
    "df.loc[df['Variant'].str.contains('V MT PETROL', case=False), 'Variant'] = '1.0-1.5 Liter'\n",
    "df.loc[df['Variant'].str.contains('ERA PLUS', case=False), 'Variant'] = '1.0-1.5 Liter'"
   ]
  },
  {
   "cell_type": "code",
   "execution_count": 40,
   "metadata": {},
   "outputs": [],
   "source": [
    "df.loc[df.groupby('Variant').Variant.transform('count').lt(20), 'Variant'] = 'Other' \n",
    "\n",
    "# Combining variants as Other which have less than 20 value counts to simplify the data"
   ]
  },
  {
   "cell_type": "code",
   "execution_count": 41,
   "metadata": {},
   "outputs": [
    {
     "data": {
      "text/plain": [
       "1.0-1.5 Liter    1531\n",
       "Middle Petrol     663\n",
       "Basic Diesel      319\n",
       "Other             274\n",
       "Basic Petrol      249\n",
       "1.5-2.0 Liter     178\n",
       "Top Diesel        148\n",
       "Top Petrol        118\n",
       "2.0+ Liter         45\n",
       "RXT                20\n",
       "Name: Variant, dtype: int64"
      ]
     },
     "execution_count": 41,
     "metadata": {},
     "output_type": "execute_result"
    }
   ],
   "source": [
    "df['Variant'].value_counts()"
   ]
  },
  {
   "cell_type": "code",
   "execution_count": 42,
   "metadata": {},
   "outputs": [
    {
     "data": {
      "text/plain": [
       "Alto       485\n",
       "Swift      362\n",
       "Baleno     260\n",
       "Vitara     214\n",
       "Grand      178\n",
       "          ... \n",
       "Glanza       1\n",
       "Lodgy        1\n",
       "Terrano      1\n",
       "Captur       1\n",
       "Cruze        1\n",
       "Name: Model, Length: 93, dtype: int64"
      ]
     },
     "execution_count": 42,
     "metadata": {},
     "output_type": "execute_result"
    }
   ],
   "source": [
    "df['Model'].value_counts() # We have 100 different car models"
   ]
  },
  {
   "cell_type": "code",
   "execution_count": 43,
   "metadata": {},
   "outputs": [
    {
     "data": {
      "text/plain": [
       " Maruti Swift               271\n",
       " Maruti Baleno              260\n",
       " Maruti Vitara Brezza       214\n",
       " Maruti Alto 800            198\n",
       " Hyundai Grand i10          178\n",
       "                           ... \n",
       " Mercedes Benz GLA Class      1\n",
       " Nissan Terrano               1\n",
       " Renault Captur               1\n",
       " Toyota YARIS                 1\n",
       " Honda CRV                    1\n",
       "Name: Name, Length: 109, dtype: int64"
      ]
     },
     "execution_count": 43,
     "metadata": {},
     "output_type": "execute_result"
    }
   ],
   "source": [
    "df['Name'].value_counts() # We have 115 different names"
   ]
  },
  {
   "cell_type": "code",
   "execution_count": 44,
   "metadata": {},
   "outputs": [],
   "source": [
    "df.drop(['Name'], axis = 1, inplace = True) # Dropping the name columns as I have already separated it into 'Name' and 'Model'"
   ]
  },
  {
   "cell_type": "markdown",
   "metadata": {},
   "source": [
    "### EDA"
   ]
  },
  {
   "cell_type": "code",
   "execution_count": 45,
   "metadata": {},
   "outputs": [
    {
     "data": {
      "image/png": "[encoded data removed]",
      "text/plain": [
       "<Figure size 1440x576 with 2 Axes>"
      ]
     },
     "metadata": {
      "needs_background": "light"
     },
     "output_type": "display_data"
    }
   ],
   "source": [
    "plt.figure(figsize=(20,8))\n",
    "\n",
    "plt.subplot(1,2,1)\n",
    "plt.title('Engine Type Histogram')\n",
    "plt.xticks(rotation=45)\n",
    "sns.countplot(df.Variant, palette=(\"Blues_d\"))\n",
    "plt.ticklabel_format(style='plain', axis='y')\n",
    "plt.subplot(1,2,2)\n",
    "plt.title('Engine Type vs Price')\n",
    "sns.boxplot(x=df.Variant, y=df.Price, palette=(\"PuBuGn\"))\n",
    "\n",
    "plt.xticks(rotation=45)\n",
    "plt.ticklabel_format(style='plain', axis='y')\n",
    "plt.show()"
   ]
  },
  {
   "cell_type": "markdown",
   "metadata": {},
   "source": [
    "Count plot and price plot according to the cars engine variant"
   ]
  },
  {
   "cell_type": "code",
   "execution_count": 46,
   "metadata": {},
   "outputs": [
    {
     "data": {
      "image/png": "[encoded data removed]",
      "text/plain": [
       "<Figure size 432x288 with 1 Axes>"
      ]
     },
     "metadata": {
      "needs_background": "light"
     },
     "output_type": "display_data"
    }
   ],
   "source": [
    "df_fuel = pd.DataFrame(df.groupby(['Fuel type'])['Price'].mean().sort_values(ascending = False))\n",
    "df_fuel.plot.bar()\n",
    "plt.ticklabel_format(style='plain', axis='y')\n",
    "plt.title('Fuel Type vs Average Price')\n",
    "plt.show()"
   ]
  },
  {
   "cell_type": "markdown",
   "metadata": {},
   "source": [
    "Average price of car with respect to the fuel type. Diesel is most evpensive, then petrol, least expensive is Petrol + LPG"
   ]
  },
  {
   "cell_type": "code",
   "execution_count": 47,
   "metadata": {},
   "outputs": [
    {
     "data": {
      "text/html": [
       "<div>\n",
       "<style scoped>\n",
       "    .dataframe tbody tr th:only-of-type {\n",
       "        vertical-align: middle;\n",
       "    }\n",
       "\n",
       "    .dataframe tbody tr th {\n",
       "        vertical-align: top;\n",
       "    }\n",
       "\n",
       "    .dataframe thead th {\n",
       "        text-align: right;\n",
       "    }\n",
       "</style>\n",
       "<table border=\"1\" class=\"dataframe\">\n",
       "  <thead>\n",
       "    <tr style=\"text-align: right;\">\n",
       "      <th></th>\n",
       "      <th>Transmission type</th>\n",
       "      <th>Variant</th>\n",
       "      <th>Mileage</th>\n",
       "      <th>Owned</th>\n",
       "      <th>Fuel type</th>\n",
       "      <th>City</th>\n",
       "      <th>Price</th>\n",
       "      <th>Year</th>\n",
       "      <th>Manufacturer</th>\n",
       "      <th>Model</th>\n",
       "    </tr>\n",
       "  </thead>\n",
       "  <tbody>\n",
       "    <tr>\n",
       "      <th>0</th>\n",
       "      <td>Manual</td>\n",
       "      <td>1.5-2.0 Liter</td>\n",
       "      <td>53517</td>\n",
       "      <td>1st Owner</td>\n",
       "      <td>Diesel</td>\n",
       "      <td>Rohtak</td>\n",
       "      <td>482299</td>\n",
       "      <td>2013</td>\n",
       "      <td>Hyundai</td>\n",
       "      <td>Verna</td>\n",
       "    </tr>\n",
       "    <tr>\n",
       "      <th>1</th>\n",
       "      <td>Manual</td>\n",
       "      <td>1.5-2.0 Liter</td>\n",
       "      <td>39294</td>\n",
       "      <td>2nd Owner</td>\n",
       "      <td>Petrol</td>\n",
       "      <td>Rohtak</td>\n",
       "      <td>898999</td>\n",
       "      <td>2018</td>\n",
       "      <td>Hyundai</td>\n",
       "      <td>Creta</td>\n",
       "    </tr>\n",
       "    <tr>\n",
       "      <th>2</th>\n",
       "      <td>Manual</td>\n",
       "      <td>Basic Diesel</td>\n",
       "      <td>69894</td>\n",
       "      <td>1st Owner</td>\n",
       "      <td>Diesel</td>\n",
       "      <td>Rohtak</td>\n",
       "      <td>474699</td>\n",
       "      <td>2017</td>\n",
       "      <td>Maruti</td>\n",
       "      <td>Swift</td>\n",
       "    </tr>\n",
       "    <tr>\n",
       "      <th>3</th>\n",
       "      <td>Manual</td>\n",
       "      <td>1.0-1.5 Liter</td>\n",
       "      <td>48582</td>\n",
       "      <td>1st Owner</td>\n",
       "      <td>Petrol</td>\n",
       "      <td>Rohtak</td>\n",
       "      <td>590199</td>\n",
       "      <td>2018</td>\n",
       "      <td>Hyundai</td>\n",
       "      <td>Elite</td>\n",
       "    </tr>\n",
       "    <tr>\n",
       "      <th>4</th>\n",
       "      <td>Manual</td>\n",
       "      <td>Other</td>\n",
       "      <td>3094</td>\n",
       "      <td>1st Owner</td>\n",
       "      <td>Petrol</td>\n",
       "      <td>Rohtak</td>\n",
       "      <td>1704999</td>\n",
       "      <td>2020</td>\n",
       "      <td>MG</td>\n",
       "      <td>HECTOR</td>\n",
       "    </tr>\n",
       "  </tbody>\n",
       "</table>\n",
       "</div>"
      ],
      "text/plain": [
       "  Transmission type        Variant  Mileage      Owned Fuel type    City  \\\n",
       "0            Manual  1.5-2.0 Liter    53517  1st Owner    Diesel  Rohtak   \n",
       "1            Manual  1.5-2.0 Liter    39294  2nd Owner    Petrol  Rohtak   \n",
       "2            Manual   Basic Diesel    69894  1st Owner    Diesel  Rohtak   \n",
       "3            Manual  1.0-1.5 Liter    48582  1st Owner    Petrol  Rohtak   \n",
       "4            Manual          Other     3094  1st Owner    Petrol  Rohtak   \n",
       "\n",
       "     Price  Year Manufacturer   Model  \n",
       "0   482299  2013      Hyundai   Verna  \n",
       "1   898999  2018      Hyundai   Creta  \n",
       "2   474699  2017       Maruti   Swift  \n",
       "3   590199  2018      Hyundai   Elite  \n",
       "4  1704999  2020           MG  HECTOR  "
      ]
     },
     "execution_count": 47,
     "metadata": {},
     "output_type": "execute_result"
    }
   ],
   "source": [
    "df.head()"
   ]
  },
  {
   "cell_type": "code",
   "execution_count": 48,
   "metadata": {},
   "outputs": [
    {
     "data": {
      "image/png": "[encoded data removed]",
      "text/plain": [
       "<Figure size 432x288 with 1 Axes>"
      ]
     },
     "metadata": {
      "needs_background": "light"
     },
     "output_type": "display_data"
    }
   ],
   "source": [
    "df_trans = pd.DataFrame(df.groupby(['Transmission type'])['Price'].mean().sort_values(ascending = False))\n",
    "df_trans.plot.bar()\n",
    "plt.ticklabel_format(style='plain', axis='y')\n",
    "plt.title('Transmission Type vs Average Price')\n",
    "plt.show()"
   ]
  },
  {
   "cell_type": "markdown",
   "metadata": {},
   "source": [
    "As expected cars which have automatic transmission are on average priced above Rs. 80,000 and cars which have manual transmission are on average price around Rs 50,000"
   ]
  },
  {
   "cell_type": "code",
   "execution_count": 49,
   "metadata": {},
   "outputs": [
    {
     "data": {
      "image/png": "[encoded data removed]",
      "text/plain": [
       "<Figure size 432x288 with 1 Axes>"
      ]
     },
     "metadata": {
      "needs_background": "light"
     },
     "output_type": "display_data"
    }
   ],
   "source": [
    "df_ownd = pd.DataFrame(df.groupby(['Owned'])['Price'].mean().sort_values(ascending = False))\n",
    "df_ownd.plot.bar()\n",
    "plt.ticklabel_format(style='plain', axis='y')\n",
    "plt.title('Number of previous owners vs Average Price')\n",
    "plt.show()"
   ]
  },
  {
   "cell_type": "markdown",
   "metadata": {},
   "source": [
    "We can observe that as number of owners go up, the average price of car decreases, this is what one would expect."
   ]
  },
  {
   "cell_type": "code",
   "execution_count": 50,
   "metadata": {},
   "outputs": [
    {
     "data": {
      "image/png": "[encoded data removed]",
      "text/plain": [
       "<Figure size 432x288 with 1 Axes>"
      ]
     },
     "metadata": {
      "needs_background": "light"
     },
     "output_type": "display_data"
    }
   ],
   "source": [
    "df_vrnt = pd.DataFrame(df.groupby(['Variant'])['Price'].mean().sort_values(ascending = False))\n",
    "df_vrnt.plot.bar()\n",
    "\n",
    "plt.title('Engine Type vs Average Price')\n",
    "plt.ticklabel_format(style='plain', axis='y')\n",
    "plt.show()"
   ]
  },
  {
   "cell_type": "markdown",
   "metadata": {},
   "source": [
    "We can see that 2 liter engine is the most common engine size."
   ]
  },
  {
   "cell_type": "markdown",
   "metadata": {},
   "source": [
    "#### Multi variate analysis"
   ]
  },
  {
   "cell_type": "code",
   "execution_count": 51,
   "metadata": {},
   "outputs": [
    {
     "data": {
      "text/plain": [
       "<Figure size 1080x1080 with 0 Axes>"
      ]
     },
     "metadata": {},
     "output_type": "display_data"
    },
    {
     "data": {
      "image/png": "[encoded data removed]",
      "text/plain": [
       "<Figure size 540x540 with 12 Axes>"
      ]
     },
     "metadata": {
      "needs_background": "light"
     },
     "output_type": "display_data"
    }
   ],
   "source": [
    "plt.figure(figsize=(15,15))\n",
    "sns.pairplot(df)\n",
    "plt.ticklabel_format(style='plain', axis='y')\n",
    "plt.show()"
   ]
  },
  {
   "cell_type": "code",
   "execution_count": 52,
   "metadata": {},
   "outputs": [
    {
     "data": {
      "image/png": "[encoded data removed]",
      "text/plain": [
       "<Figure size 864x864 with 2 Axes>"
      ]
     },
     "metadata": {
      "needs_background": "light"
     },
     "output_type": "display_data"
    }
   ],
   "source": [
    "plt.figure(figsize=(12,12)) # Co-relation heat map\n",
    "sns.heatmap(df.corr(),linewidths=.1,cmap=\"YlGnBu\", annot=True)\n",
    "plt.yticks(rotation=0); # Checkign co-relation"
   ]
  },
  {
   "cell_type": "code",
   "execution_count": 53,
   "metadata": {},
   "outputs": [],
   "source": [
    "df.loc[df.groupby('Model').Variant.transform('count').lt(20), 'Variant'] = 'Other'  \n",
    "# If less that 20 count, Model is renamed to 'Other'"
   ]
  },
  {
   "cell_type": "code",
   "execution_count": 54,
   "metadata": {},
   "outputs": [],
   "source": [
    "# Defining the map function\n",
    "def dummies(x,df):\n",
    "    temp = pd.get_dummies(df[x], drop_first = True)\n",
    "    df = pd.concat([df, temp], axis = 1)\n",
    "    df.drop([x], axis = 1, inplace = True)\n",
    "    return df\n",
    "# Applying the function to the df\n",
    "\n",
    "df = dummies('Transmission type',df)\n",
    "df = dummies('Variant',df)\n",
    "df = dummies('Owned',df)\n",
    "df = dummies('Fuel type',df)\n",
    "df = dummies('City',df)\n",
    "df = dummies('Manufacturer',df)\n",
    "df = dummies('Model',df)"
   ]
  },
  {
   "cell_type": "code",
   "execution_count": 55,
   "metadata": {},
   "outputs": [
    {
     "data": {
      "text/html": [
       "<div>\n",
       "<style scoped>\n",
       "    .dataframe tbody tr th:only-of-type {\n",
       "        vertical-align: middle;\n",
       "    }\n",
       "\n",
       "    .dataframe tbody tr th {\n",
       "        vertical-align: top;\n",
       "    }\n",
       "\n",
       "    .dataframe thead th {\n",
       "        text-align: right;\n",
       "    }\n",
       "</style>\n",
       "<table border=\"1\" class=\"dataframe\">\n",
       "  <thead>\n",
       "    <tr style=\"text-align: right;\">\n",
       "      <th></th>\n",
       "      <th>Mileage</th>\n",
       "      <th>Price</th>\n",
       "      <th>Year</th>\n",
       "      <th>Manual</th>\n",
       "      <th>1.5-2.0 Liter</th>\n",
       "      <th>2.0+ Liter</th>\n",
       "      <th>Basic Diesel</th>\n",
       "      <th>Basic Petrol</th>\n",
       "      <th>Middle Petrol</th>\n",
       "      <th>Other</th>\n",
       "      <th>RXT</th>\n",
       "      <th>Top Diesel</th>\n",
       "      <th>Top Petrol</th>\n",
       "      <th>2nd Owner</th>\n",
       "      <th>3rd Owner</th>\n",
       "      <th>4th Owner</th>\n",
       "      <th>Petrol</th>\n",
       "      <th>Petrol + CNG</th>\n",
       "      <th>Petrol + LPG</th>\n",
       "      <th>Bengaluru</th>\n",
       "      <th>Bhopal</th>\n",
       "      <th>Chandigarh</th>\n",
       "      <th>Chennai</th>\n",
       "      <th>Delhi</th>\n",
       "      <th>Hyderabad</th>\n",
       "      <th>Jaipur</th>\n",
       "      <th>Kochi</th>\n",
       "      <th>Kolkata</th>\n",
       "      <th>Lucknow</th>\n",
       "      <th>Ludhiana</th>\n",
       "      <th>Meerut</th>\n",
       "      <th>Mumbai</th>\n",
       "      <th>Mysore</th>\n",
       "      <th>Nasik</th>\n",
       "      <th>Panipat</th>\n",
       "      <th>Pune</th>\n",
       "      <th>Rajkot</th>\n",
       "      <th>Rohtak</th>\n",
       "      <th>Surat</th>\n",
       "      <th>Vadodara</th>\n",
       "      <th>BMW</th>\n",
       "      <th>Chevrolet</th>\n",
       "      <th>Datsun</th>\n",
       "      <th>Ford</th>\n",
       "      <th>HYUNDAI</th>\n",
       "      <th>Honda</th>\n",
       "      <th>Hyundai</th>\n",
       "      <th>Jeep</th>\n",
       "      <th>KIA</th>\n",
       "      <th>MG</th>\n",
       "      <th>Mahindra</th>\n",
       "      <th>Maruti</th>\n",
       "      <th>Mercedes</th>\n",
       "      <th>Nissan</th>\n",
       "      <th>RENAULT</th>\n",
       "      <th>Renault</th>\n",
       "      <th>Skoda</th>\n",
       "      <th>Ssangyong</th>\n",
       "      <th>Tata</th>\n",
       "      <th>Toyota</th>\n",
       "      <th>Volkswagen</th>\n",
       "      <th>A</th>\n",
       "      <th>A3</th>\n",
       "      <th>A4</th>\n",
       "      <th>ALTROZ</th>\n",
       "      <th>AURA</th>\n",
       "      <th>Alto</th>\n",
       "      <th>Amaze</th>\n",
       "      <th>Ameo</th>\n",
       "      <th>BR-V</th>\n",
       "      <th>Baleno</th>\n",
       "      <th>Benz</th>\n",
       "      <th>Bolero</th>\n",
       "      <th>Brio</th>\n",
       "      <th>CRV</th>\n",
       "      <th>Camry</th>\n",
       "      <th>Captur</th>\n",
       "      <th>Celerio</th>\n",
       "      <th>Ciaz</th>\n",
       "      <th>City</th>\n",
       "      <th>Civic</th>\n",
       "      <th>Compass</th>\n",
       "      <th>Corolla</th>\n",
       "      <th>Creta</th>\n",
       "      <th>Cruze</th>\n",
       "      <th>Duster</th>\n",
       "      <th>Dzire</th>\n",
       "      <th>Ecosport</th>\n",
       "      <th>Eeco</th>\n",
       "      <th>Elite</th>\n",
       "      <th>Endeavour</th>\n",
       "      <th>Eon</th>\n",
       "      <th>Ertiga</th>\n",
       "      <th>Etios</th>\n",
       "      <th>FREESTYLE</th>\n",
       "      <th>Figo</th>\n",
       "      <th>Fortuner</th>\n",
       "      <th>GRAND</th>\n",
       "      <th>Glanza</th>\n",
       "      <th>Go</th>\n",
       "      <th>Grand</th>\n",
       "      <th>HECTOR</th>\n",
       "      <th>Harrier</th>\n",
       "      <th>Hexa</th>\n",
       "      <th>IGNIS</th>\n",
       "      <th>Innova</th>\n",
       "      <th>Jazz</th>\n",
       "      <th>Jetta</th>\n",
       "      <th>KAROQ</th>\n",
       "      <th>Kiger</th>\n",
       "      <th>Kuv100</th>\n",
       "      <th>Kwid</th>\n",
       "      <th>Lodgy</th>\n",
       "      <th>MARAZZO</th>\n",
       "      <th>Micra</th>\n",
       "      <th>Mobilio</th>\n",
       "      <th>NEW</th>\n",
       "      <th>NEXON</th>\n",
       "      <th>Nano</th>\n",
       "      <th>New</th>\n",
       "      <th>OMNI</th>\n",
       "      <th>Octavia</th>\n",
       "      <th>Polo</th>\n",
       "      <th>Q3</th>\n",
       "      <th>Rapid</th>\n",
       "      <th>Redi</th>\n",
       "      <th>Rexton</th>\n",
       "      <th>Ritz</th>\n",
       "      <th>S</th>\n",
       "      <th>SELTOS</th>\n",
       "      <th>Santro</th>\n",
       "      <th>Scorpio</th>\n",
       "      <th>Swift</th>\n",
       "      <th>TRIBER</th>\n",
       "      <th>TUV300</th>\n",
       "      <th>Terrano</th>\n",
       "      <th>Tiago</th>\n",
       "      <th>Tucson</th>\n",
       "      <th>VENUE</th>\n",
       "      <th>Vento</th>\n",
       "      <th>Verna</th>\n",
       "      <th>Vitara</th>\n",
       "      <th>WR-V</th>\n",
       "      <th>Wagon</th>\n",
       "      <th>X1</th>\n",
       "      <th>XL6</th>\n",
       "      <th>XUV</th>\n",
       "      <th>XUV500</th>\n",
       "      <th>Xcent</th>\n",
       "      <th>YARIS</th>\n",
       "      <th>Zen</th>\n",
       "      <th>i10</th>\n",
       "      <th>i20</th>\n",
       "    </tr>\n",
       "  </thead>\n",
       "  <tbody>\n",
       "    <tr>\n",
       "      <th>0</th>\n",
       "      <td>53517</td>\n",
       "      <td>482299</td>\n",
       "      <td>2013</td>\n",
       "      <td>1</td>\n",
       "      <td>1</td>\n",
       "      <td>0</td>\n",
       "      <td>0</td>\n",
       "      <td>0</td>\n",
       "      <td>0</td>\n",
       "      <td>0</td>\n",
       "      <td>0</td>\n",
       "      <td>0</td>\n",
       "      <td>0</td>\n",
       "      <td>0</td>\n",
       "      <td>0</td>\n",
       "      <td>0</td>\n",
       "      <td>0</td>\n",
       "      <td>0</td>\n",
       "      <td>0</td>\n",
       "      <td>0</td>\n",
       "      <td>0</td>\n",
       "      <td>0</td>\n",
       "      <td>0</td>\n",
       "      <td>0</td>\n",
       "      <td>0</td>\n",
       "      <td>0</td>\n",
       "      <td>0</td>\n",
       "      <td>0</td>\n",
       "      <td>0</td>\n",
       "      <td>0</td>\n",
       "      <td>0</td>\n",
       "      <td>0</td>\n",
       "      <td>0</td>\n",
       "      <td>0</td>\n",
       "      <td>0</td>\n",
       "      <td>0</td>\n",
       "      <td>0</td>\n",
       "      <td>1</td>\n",
       "      <td>0</td>\n",
       "      <td>0</td>\n",
       "      <td>0</td>\n",
       "      <td>0</td>\n",
       "      <td>0</td>\n",
       "      <td>0</td>\n",
       "      <td>0</td>\n",
       "      <td>0</td>\n",
       "      <td>1</td>\n",
       "      <td>0</td>\n",
       "      <td>0</td>\n",
       "      <td>0</td>\n",
       "      <td>0</td>\n",
       "      <td>0</td>\n",
       "      <td>0</td>\n",
       "      <td>0</td>\n",
       "      <td>0</td>\n",
       "      <td>0</td>\n",
       "      <td>0</td>\n",
       "      <td>0</td>\n",
       "      <td>0</td>\n",
       "      <td>0</td>\n",
       "      <td>0</td>\n",
       "      <td>0</td>\n",
       "      <td>0</td>\n",
       "      <td>0</td>\n",
       "      <td>0</td>\n",
       "      <td>0</td>\n",
       "      <td>0</td>\n",
       "      <td>0</td>\n",
       "      <td>0</td>\n",
       "      <td>0</td>\n",
       "      <td>0</td>\n",
       "      <td>0</td>\n",
       "      <td>0</td>\n",
       "      <td>0</td>\n",
       "      <td>0</td>\n",
       "      <td>0</td>\n",
       "      <td>0</td>\n",
       "      <td>0</td>\n",
       "      <td>0</td>\n",
       "      <td>0</td>\n",
       "      <td>0</td>\n",
       "      <td>0</td>\n",
       "      <td>0</td>\n",
       "      <td>0</td>\n",
       "      <td>0</td>\n",
       "      <td>0</td>\n",
       "      <td>0</td>\n",
       "      <td>0</td>\n",
       "      <td>0</td>\n",
       "      <td>0</td>\n",
       "      <td>0</td>\n",
       "      <td>0</td>\n",
       "      <td>0</td>\n",
       "      <td>0</td>\n",
       "      <td>0</td>\n",
       "      <td>0</td>\n",
       "      <td>0</td>\n",
       "      <td>0</td>\n",
       "      <td>0</td>\n",
       "      <td>0</td>\n",
       "      <td>0</td>\n",
       "      <td>0</td>\n",
       "      <td>0</td>\n",
       "      <td>0</td>\n",
       "      <td>0</td>\n",
       "      <td>0</td>\n",
       "      <td>0</td>\n",
       "      <td>0</td>\n",
       "      <td>0</td>\n",
       "      <td>0</td>\n",
       "      <td>0</td>\n",
       "      <td>0</td>\n",
       "      <td>0</td>\n",
       "      <td>0</td>\n",
       "      <td>0</td>\n",
       "      <td>0</td>\n",
       "      <td>0</td>\n",
       "      <td>0</td>\n",
       "      <td>0</td>\n",
       "      <td>0</td>\n",
       "      <td>0</td>\n",
       "      <td>0</td>\n",
       "      <td>0</td>\n",
       "      <td>0</td>\n",
       "      <td>0</td>\n",
       "      <td>0</td>\n",
       "      <td>0</td>\n",
       "      <td>0</td>\n",
       "      <td>0</td>\n",
       "      <td>0</td>\n",
       "      <td>0</td>\n",
       "      <td>0</td>\n",
       "      <td>0</td>\n",
       "      <td>0</td>\n",
       "      <td>0</td>\n",
       "      <td>0</td>\n",
       "      <td>0</td>\n",
       "      <td>0</td>\n",
       "      <td>0</td>\n",
       "      <td>0</td>\n",
       "      <td>1</td>\n",
       "      <td>0</td>\n",
       "      <td>0</td>\n",
       "      <td>0</td>\n",
       "      <td>0</td>\n",
       "      <td>0</td>\n",
       "      <td>0</td>\n",
       "      <td>0</td>\n",
       "      <td>0</td>\n",
       "      <td>0</td>\n",
       "      <td>0</td>\n",
       "      <td>0</td>\n",
       "      <td>0</td>\n",
       "    </tr>\n",
       "    <tr>\n",
       "      <th>1</th>\n",
       "      <td>39294</td>\n",
       "      <td>898999</td>\n",
       "      <td>2018</td>\n",
       "      <td>1</td>\n",
       "      <td>1</td>\n",
       "      <td>0</td>\n",
       "      <td>0</td>\n",
       "      <td>0</td>\n",
       "      <td>0</td>\n",
       "      <td>0</td>\n",
       "      <td>0</td>\n",
       "      <td>0</td>\n",
       "      <td>0</td>\n",
       "      <td>1</td>\n",
       "      <td>0</td>\n",
       "      <td>0</td>\n",
       "      <td>1</td>\n",
       "      <td>0</td>\n",
       "      <td>0</td>\n",
       "      <td>0</td>\n",
       "      <td>0</td>\n",
       "      <td>0</td>\n",
       "      <td>0</td>\n",
       "      <td>0</td>\n",
       "      <td>0</td>\n",
       "      <td>0</td>\n",
       "      <td>0</td>\n",
       "      <td>0</td>\n",
       "      <td>0</td>\n",
       "      <td>0</td>\n",
       "      <td>0</td>\n",
       "      <td>0</td>\n",
       "      <td>0</td>\n",
       "      <td>0</td>\n",
       "      <td>0</td>\n",
       "      <td>0</td>\n",
       "      <td>0</td>\n",
       "      <td>1</td>\n",
       "      <td>0</td>\n",
       "      <td>0</td>\n",
       "      <td>0</td>\n",
       "      <td>0</td>\n",
       "      <td>0</td>\n",
       "      <td>0</td>\n",
       "      <td>0</td>\n",
       "      <td>0</td>\n",
       "      <td>1</td>\n",
       "      <td>0</td>\n",
       "      <td>0</td>\n",
       "      <td>0</td>\n",
       "      <td>0</td>\n",
       "      <td>0</td>\n",
       "      <td>0</td>\n",
       "      <td>0</td>\n",
       "      <td>0</td>\n",
       "      <td>0</td>\n",
       "      <td>0</td>\n",
       "      <td>0</td>\n",
       "      <td>0</td>\n",
       "      <td>0</td>\n",
       "      <td>0</td>\n",
       "      <td>0</td>\n",
       "      <td>0</td>\n",
       "      <td>0</td>\n",
       "      <td>0</td>\n",
       "      <td>0</td>\n",
       "      <td>0</td>\n",
       "      <td>0</td>\n",
       "      <td>0</td>\n",
       "      <td>0</td>\n",
       "      <td>0</td>\n",
       "      <td>0</td>\n",
       "      <td>0</td>\n",
       "      <td>0</td>\n",
       "      <td>0</td>\n",
       "      <td>0</td>\n",
       "      <td>0</td>\n",
       "      <td>0</td>\n",
       "      <td>0</td>\n",
       "      <td>0</td>\n",
       "      <td>0</td>\n",
       "      <td>0</td>\n",
       "      <td>0</td>\n",
       "      <td>1</td>\n",
       "      <td>0</td>\n",
       "      <td>0</td>\n",
       "      <td>0</td>\n",
       "      <td>0</td>\n",
       "      <td>0</td>\n",
       "      <td>0</td>\n",
       "      <td>0</td>\n",
       "      <td>0</td>\n",
       "      <td>0</td>\n",
       "      <td>0</td>\n",
       "      <td>0</td>\n",
       "      <td>0</td>\n",
       "      <td>0</td>\n",
       "      <td>0</td>\n",
       "      <td>0</td>\n",
       "      <td>0</td>\n",
       "      <td>0</td>\n",
       "      <td>0</td>\n",
       "      <td>0</td>\n",
       "      <td>0</td>\n",
       "      <td>0</td>\n",
       "      <td>0</td>\n",
       "      <td>0</td>\n",
       "      <td>0</td>\n",
       "      <td>0</td>\n",
       "      <td>0</td>\n",
       "      <td>0</td>\n",
       "      <td>0</td>\n",
       "      <td>0</td>\n",
       "      <td>0</td>\n",
       "      <td>0</td>\n",
       "      <td>0</td>\n",
       "      <td>0</td>\n",
       "      <td>0</td>\n",
       "      <td>0</td>\n",
       "      <td>0</td>\n",
       "      <td>0</td>\n",
       "      <td>0</td>\n",
       "      <td>0</td>\n",
       "      <td>0</td>\n",
       "      <td>0</td>\n",
       "      <td>0</td>\n",
       "      <td>0</td>\n",
       "      <td>0</td>\n",
       "      <td>0</td>\n",
       "      <td>0</td>\n",
       "      <td>0</td>\n",
       "      <td>0</td>\n",
       "      <td>0</td>\n",
       "      <td>0</td>\n",
       "      <td>0</td>\n",
       "      <td>0</td>\n",
       "      <td>0</td>\n",
       "      <td>0</td>\n",
       "      <td>0</td>\n",
       "      <td>0</td>\n",
       "      <td>0</td>\n",
       "      <td>0</td>\n",
       "      <td>0</td>\n",
       "      <td>0</td>\n",
       "      <td>0</td>\n",
       "      <td>0</td>\n",
       "      <td>0</td>\n",
       "      <td>0</td>\n",
       "      <td>0</td>\n",
       "      <td>0</td>\n",
       "      <td>0</td>\n",
       "      <td>0</td>\n",
       "      <td>0</td>\n",
       "    </tr>\n",
       "    <tr>\n",
       "      <th>2</th>\n",
       "      <td>69894</td>\n",
       "      <td>474699</td>\n",
       "      <td>2017</td>\n",
       "      <td>1</td>\n",
       "      <td>0</td>\n",
       "      <td>0</td>\n",
       "      <td>1</td>\n",
       "      <td>0</td>\n",
       "      <td>0</td>\n",
       "      <td>0</td>\n",
       "      <td>0</td>\n",
       "      <td>0</td>\n",
       "      <td>0</td>\n",
       "      <td>0</td>\n",
       "      <td>0</td>\n",
       "      <td>0</td>\n",
       "      <td>0</td>\n",
       "      <td>0</td>\n",
       "      <td>0</td>\n",
       "      <td>0</td>\n",
       "      <td>0</td>\n",
       "      <td>0</td>\n",
       "      <td>0</td>\n",
       "      <td>0</td>\n",
       "      <td>0</td>\n",
       "      <td>0</td>\n",
       "      <td>0</td>\n",
       "      <td>0</td>\n",
       "      <td>0</td>\n",
       "      <td>0</td>\n",
       "      <td>0</td>\n",
       "      <td>0</td>\n",
       "      <td>0</td>\n",
       "      <td>0</td>\n",
       "      <td>0</td>\n",
       "      <td>0</td>\n",
       "      <td>0</td>\n",
       "      <td>1</td>\n",
       "      <td>0</td>\n",
       "      <td>0</td>\n",
       "      <td>0</td>\n",
       "      <td>0</td>\n",
       "      <td>0</td>\n",
       "      <td>0</td>\n",
       "      <td>0</td>\n",
       "      <td>0</td>\n",
       "      <td>0</td>\n",
       "      <td>0</td>\n",
       "      <td>0</td>\n",
       "      <td>0</td>\n",
       "      <td>0</td>\n",
       "      <td>1</td>\n",
       "      <td>0</td>\n",
       "      <td>0</td>\n",
       "      <td>0</td>\n",
       "      <td>0</td>\n",
       "      <td>0</td>\n",
       "      <td>0</td>\n",
       "      <td>0</td>\n",
       "      <td>0</td>\n",
       "      <td>0</td>\n",
       "      <td>0</td>\n",
       "      <td>0</td>\n",
       "      <td>0</td>\n",
       "      <td>0</td>\n",
       "      <td>0</td>\n",
       "      <td>0</td>\n",
       "      <td>0</td>\n",
       "      <td>0</td>\n",
       "      <td>0</td>\n",
       "      <td>0</td>\n",
       "      <td>0</td>\n",
       "      <td>0</td>\n",
       "      <td>0</td>\n",
       "      <td>0</td>\n",
       "      <td>0</td>\n",
       "      <td>0</td>\n",
       "      <td>0</td>\n",
       "      <td>0</td>\n",
       "      <td>0</td>\n",
       "      <td>0</td>\n",
       "      <td>0</td>\n",
       "      <td>0</td>\n",
       "      <td>0</td>\n",
       "      <td>0</td>\n",
       "      <td>0</td>\n",
       "      <td>0</td>\n",
       "      <td>0</td>\n",
       "      <td>0</td>\n",
       "      <td>0</td>\n",
       "      <td>0</td>\n",
       "      <td>0</td>\n",
       "      <td>0</td>\n",
       "      <td>0</td>\n",
       "      <td>0</td>\n",
       "      <td>0</td>\n",
       "      <td>0</td>\n",
       "      <td>0</td>\n",
       "      <td>0</td>\n",
       "      <td>0</td>\n",
       "      <td>0</td>\n",
       "      <td>0</td>\n",
       "      <td>0</td>\n",
       "      <td>0</td>\n",
       "      <td>0</td>\n",
       "      <td>0</td>\n",
       "      <td>0</td>\n",
       "      <td>0</td>\n",
       "      <td>0</td>\n",
       "      <td>0</td>\n",
       "      <td>0</td>\n",
       "      <td>0</td>\n",
       "      <td>0</td>\n",
       "      <td>0</td>\n",
       "      <td>0</td>\n",
       "      <td>0</td>\n",
       "      <td>0</td>\n",
       "      <td>0</td>\n",
       "      <td>0</td>\n",
       "      <td>0</td>\n",
       "      <td>0</td>\n",
       "      <td>0</td>\n",
       "      <td>0</td>\n",
       "      <td>0</td>\n",
       "      <td>0</td>\n",
       "      <td>0</td>\n",
       "      <td>0</td>\n",
       "      <td>0</td>\n",
       "      <td>0</td>\n",
       "      <td>0</td>\n",
       "      <td>0</td>\n",
       "      <td>0</td>\n",
       "      <td>1</td>\n",
       "      <td>0</td>\n",
       "      <td>0</td>\n",
       "      <td>0</td>\n",
       "      <td>0</td>\n",
       "      <td>0</td>\n",
       "      <td>0</td>\n",
       "      <td>0</td>\n",
       "      <td>0</td>\n",
       "      <td>0</td>\n",
       "      <td>0</td>\n",
       "      <td>0</td>\n",
       "      <td>0</td>\n",
       "      <td>0</td>\n",
       "      <td>0</td>\n",
       "      <td>0</td>\n",
       "      <td>0</td>\n",
       "      <td>0</td>\n",
       "      <td>0</td>\n",
       "      <td>0</td>\n",
       "      <td>0</td>\n",
       "    </tr>\n",
       "    <tr>\n",
       "      <th>3</th>\n",
       "      <td>48582</td>\n",
       "      <td>590199</td>\n",
       "      <td>2018</td>\n",
       "      <td>1</td>\n",
       "      <td>0</td>\n",
       "      <td>0</td>\n",
       "      <td>0</td>\n",
       "      <td>0</td>\n",
       "      <td>0</td>\n",
       "      <td>0</td>\n",
       "      <td>0</td>\n",
       "      <td>0</td>\n",
       "      <td>0</td>\n",
       "      <td>0</td>\n",
       "      <td>0</td>\n",
       "      <td>0</td>\n",
       "      <td>1</td>\n",
       "      <td>0</td>\n",
       "      <td>0</td>\n",
       "      <td>0</td>\n",
       "      <td>0</td>\n",
       "      <td>0</td>\n",
       "      <td>0</td>\n",
       "      <td>0</td>\n",
       "      <td>0</td>\n",
       "      <td>0</td>\n",
       "      <td>0</td>\n",
       "      <td>0</td>\n",
       "      <td>0</td>\n",
       "      <td>0</td>\n",
       "      <td>0</td>\n",
       "      <td>0</td>\n",
       "      <td>0</td>\n",
       "      <td>0</td>\n",
       "      <td>0</td>\n",
       "      <td>0</td>\n",
       "      <td>0</td>\n",
       "      <td>1</td>\n",
       "      <td>0</td>\n",
       "      <td>0</td>\n",
       "      <td>0</td>\n",
       "      <td>0</td>\n",
       "      <td>0</td>\n",
       "      <td>0</td>\n",
       "      <td>0</td>\n",
       "      <td>0</td>\n",
       "      <td>1</td>\n",
       "      <td>0</td>\n",
       "      <td>0</td>\n",
       "      <td>0</td>\n",
       "      <td>0</td>\n",
       "      <td>0</td>\n",
       "      <td>0</td>\n",
       "      <td>0</td>\n",
       "      <td>0</td>\n",
       "      <td>0</td>\n",
       "      <td>0</td>\n",
       "      <td>0</td>\n",
       "      <td>0</td>\n",
       "      <td>0</td>\n",
       "      <td>0</td>\n",
       "      <td>0</td>\n",
       "      <td>0</td>\n",
       "      <td>0</td>\n",
       "      <td>0</td>\n",
       "      <td>0</td>\n",
       "      <td>0</td>\n",
       "      <td>0</td>\n",
       "      <td>0</td>\n",
       "      <td>0</td>\n",
       "      <td>0</td>\n",
       "      <td>0</td>\n",
       "      <td>0</td>\n",
       "      <td>0</td>\n",
       "      <td>0</td>\n",
       "      <td>0</td>\n",
       "      <td>0</td>\n",
       "      <td>0</td>\n",
       "      <td>0</td>\n",
       "      <td>0</td>\n",
       "      <td>0</td>\n",
       "      <td>0</td>\n",
       "      <td>0</td>\n",
       "      <td>0</td>\n",
       "      <td>0</td>\n",
       "      <td>0</td>\n",
       "      <td>0</td>\n",
       "      <td>0</td>\n",
       "      <td>0</td>\n",
       "      <td>1</td>\n",
       "      <td>0</td>\n",
       "      <td>0</td>\n",
       "      <td>0</td>\n",
       "      <td>0</td>\n",
       "      <td>0</td>\n",
       "      <td>0</td>\n",
       "      <td>0</td>\n",
       "      <td>0</td>\n",
       "      <td>0</td>\n",
       "      <td>0</td>\n",
       "      <td>0</td>\n",
       "      <td>0</td>\n",
       "      <td>0</td>\n",
       "      <td>0</td>\n",
       "      <td>0</td>\n",
       "      <td>0</td>\n",
       "      <td>0</td>\n",
       "      <td>0</td>\n",
       "      <td>0</td>\n",
       "      <td>0</td>\n",
       "      <td>0</td>\n",
       "      <td>0</td>\n",
       "      <td>0</td>\n",
       "      <td>0</td>\n",
       "      <td>0</td>\n",
       "      <td>0</td>\n",
       "      <td>0</td>\n",
       "      <td>0</td>\n",
       "      <td>0</td>\n",
       "      <td>0</td>\n",
       "      <td>0</td>\n",
       "      <td>0</td>\n",
       "      <td>0</td>\n",
       "      <td>0</td>\n",
       "      <td>0</td>\n",
       "      <td>0</td>\n",
       "      <td>0</td>\n",
       "      <td>0</td>\n",
       "      <td>0</td>\n",
       "      <td>0</td>\n",
       "      <td>0</td>\n",
       "      <td>0</td>\n",
       "      <td>0</td>\n",
       "      <td>0</td>\n",
       "      <td>0</td>\n",
       "      <td>0</td>\n",
       "      <td>0</td>\n",
       "      <td>0</td>\n",
       "      <td>0</td>\n",
       "      <td>0</td>\n",
       "      <td>0</td>\n",
       "      <td>0</td>\n",
       "      <td>0</td>\n",
       "      <td>0</td>\n",
       "      <td>0</td>\n",
       "      <td>0</td>\n",
       "      <td>0</td>\n",
       "      <td>0</td>\n",
       "      <td>0</td>\n",
       "      <td>0</td>\n",
       "      <td>0</td>\n",
       "      <td>0</td>\n",
       "      <td>0</td>\n",
       "    </tr>\n",
       "    <tr>\n",
       "      <th>4</th>\n",
       "      <td>3094</td>\n",
       "      <td>1704999</td>\n",
       "      <td>2020</td>\n",
       "      <td>1</td>\n",
       "      <td>0</td>\n",
       "      <td>0</td>\n",
       "      <td>0</td>\n",
       "      <td>0</td>\n",
       "      <td>0</td>\n",
       "      <td>1</td>\n",
       "      <td>0</td>\n",
       "      <td>0</td>\n",
       "      <td>0</td>\n",
       "      <td>0</td>\n",
       "      <td>0</td>\n",
       "      <td>0</td>\n",
       "      <td>1</td>\n",
       "      <td>0</td>\n",
       "      <td>0</td>\n",
       "      <td>0</td>\n",
       "      <td>0</td>\n",
       "      <td>0</td>\n",
       "      <td>0</td>\n",
       "      <td>0</td>\n",
       "      <td>0</td>\n",
       "      <td>0</td>\n",
       "      <td>0</td>\n",
       "      <td>0</td>\n",
       "      <td>0</td>\n",
       "      <td>0</td>\n",
       "      <td>0</td>\n",
       "      <td>0</td>\n",
       "      <td>0</td>\n",
       "      <td>0</td>\n",
       "      <td>0</td>\n",
       "      <td>0</td>\n",
       "      <td>0</td>\n",
       "      <td>1</td>\n",
       "      <td>0</td>\n",
       "      <td>0</td>\n",
       "      <td>0</td>\n",
       "      <td>0</td>\n",
       "      <td>0</td>\n",
       "      <td>0</td>\n",
       "      <td>0</td>\n",
       "      <td>0</td>\n",
       "      <td>0</td>\n",
       "      <td>0</td>\n",
       "      <td>0</td>\n",
       "      <td>1</td>\n",
       "      <td>0</td>\n",
       "      <td>0</td>\n",
       "      <td>0</td>\n",
       "      <td>0</td>\n",
       "      <td>0</td>\n",
       "      <td>0</td>\n",
       "      <td>0</td>\n",
       "      <td>0</td>\n",
       "      <td>0</td>\n",
       "      <td>0</td>\n",
       "      <td>0</td>\n",
       "      <td>0</td>\n",
       "      <td>0</td>\n",
       "      <td>0</td>\n",
       "      <td>0</td>\n",
       "      <td>0</td>\n",
       "      <td>0</td>\n",
       "      <td>0</td>\n",
       "      <td>0</td>\n",
       "      <td>0</td>\n",
       "      <td>0</td>\n",
       "      <td>0</td>\n",
       "      <td>0</td>\n",
       "      <td>0</td>\n",
       "      <td>0</td>\n",
       "      <td>0</td>\n",
       "      <td>0</td>\n",
       "      <td>0</td>\n",
       "      <td>0</td>\n",
       "      <td>0</td>\n",
       "      <td>0</td>\n",
       "      <td>0</td>\n",
       "      <td>0</td>\n",
       "      <td>0</td>\n",
       "      <td>0</td>\n",
       "      <td>0</td>\n",
       "      <td>0</td>\n",
       "      <td>0</td>\n",
       "      <td>0</td>\n",
       "      <td>0</td>\n",
       "      <td>0</td>\n",
       "      <td>0</td>\n",
       "      <td>0</td>\n",
       "      <td>0</td>\n",
       "      <td>0</td>\n",
       "      <td>0</td>\n",
       "      <td>0</td>\n",
       "      <td>0</td>\n",
       "      <td>0</td>\n",
       "      <td>0</td>\n",
       "      <td>0</td>\n",
       "      <td>1</td>\n",
       "      <td>0</td>\n",
       "      <td>0</td>\n",
       "      <td>0</td>\n",
       "      <td>0</td>\n",
       "      <td>0</td>\n",
       "      <td>0</td>\n",
       "      <td>0</td>\n",
       "      <td>0</td>\n",
       "      <td>0</td>\n",
       "      <td>0</td>\n",
       "      <td>0</td>\n",
       "      <td>0</td>\n",
       "      <td>0</td>\n",
       "      <td>0</td>\n",
       "      <td>0</td>\n",
       "      <td>0</td>\n",
       "      <td>0</td>\n",
       "      <td>0</td>\n",
       "      <td>0</td>\n",
       "      <td>0</td>\n",
       "      <td>0</td>\n",
       "      <td>0</td>\n",
       "      <td>0</td>\n",
       "      <td>0</td>\n",
       "      <td>0</td>\n",
       "      <td>0</td>\n",
       "      <td>0</td>\n",
       "      <td>0</td>\n",
       "      <td>0</td>\n",
       "      <td>0</td>\n",
       "      <td>0</td>\n",
       "      <td>0</td>\n",
       "      <td>0</td>\n",
       "      <td>0</td>\n",
       "      <td>0</td>\n",
       "      <td>0</td>\n",
       "      <td>0</td>\n",
       "      <td>0</td>\n",
       "      <td>0</td>\n",
       "      <td>0</td>\n",
       "      <td>0</td>\n",
       "      <td>0</td>\n",
       "      <td>0</td>\n",
       "      <td>0</td>\n",
       "      <td>0</td>\n",
       "      <td>0</td>\n",
       "      <td>0</td>\n",
       "      <td>0</td>\n",
       "      <td>0</td>\n",
       "      <td>0</td>\n",
       "      <td>0</td>\n",
       "    </tr>\n",
       "  </tbody>\n",
       "</table>\n",
       "</div>"
      ],
      "text/plain": [
       "   Mileage    Price  Year  Manual  1.5-2.0 Liter  2.0+ Liter  Basic Diesel  \\\n",
       "0    53517   482299  2013       1              1           0             0   \n",
       "1    39294   898999  2018       1              1           0             0   \n",
       "2    69894   474699  2017       1              0           0             1   \n",
       "3    48582   590199  2018       1              0           0             0   \n",
       "4     3094  1704999  2020       1              0           0             0   \n",
       "\n",
       "   Basic Petrol  Middle Petrol  Other  RXT   Top Diesel  Top Petrol  \\\n",
       "0             0              0      0     0           0           0   \n",
       "1             0              0      0     0           0           0   \n",
       "2             0              0      0     0           0           0   \n",
       "3             0              0      0     0           0           0   \n",
       "4             0              0      1     0           0           0   \n",
       "\n",
       "   2nd Owner  3rd Owner  4th Owner  Petrol  Petrol + CNG  Petrol + LPG  \\\n",
       "0          0          0          0       0             0             0   \n",
       "1          1          0          0       1             0             0   \n",
       "2          0          0          0       0             0             0   \n",
       "3          0          0          0       1             0             0   \n",
       "4          0          0          0       1             0             0   \n",
       "\n",
       "   Bengaluru  Bhopal  Chandigarh  Chennai  Delhi  Hyderabad  Jaipur  Kochi  \\\n",
       "0          0       0           0        0      0          0       0      0   \n",
       "1          0       0           0        0      0          0       0      0   \n",
       "2          0       0           0        0      0          0       0      0   \n",
       "3          0       0           0        0      0          0       0      0   \n",
       "4          0       0           0        0      0          0       0      0   \n",
       "\n",
       "   Kolkata  Lucknow  Ludhiana  Meerut  Mumbai  Mysore  Nasik  Panipat  Pune  \\\n",
       "0        0        0         0       0       0       0      0        0     0   \n",
       "1        0        0         0       0       0       0      0        0     0   \n",
       "2        0        0         0       0       0       0      0        0     0   \n",
       "3        0        0         0       0       0       0      0        0     0   \n",
       "4        0        0         0       0       0       0      0        0     0   \n",
       "\n",
       "   Rajkot  Rohtak  Surat  Vadodara  BMW  Chevrolet  Datsun  Ford  HYUNDAI  \\\n",
       "0       0       1      0         0    0          0       0     0        0   \n",
       "1       0       1      0         0    0          0       0     0        0   \n",
       "2       0       1      0         0    0          0       0     0        0   \n",
       "3       0       1      0         0    0          0       0     0        0   \n",
       "4       0       1      0         0    0          0       0     0        0   \n",
       "\n",
       "   Honda  Hyundai  Jeep  KIA  MG  Mahindra  Maruti  Mercedes  Nissan  RENAULT  \\\n",
       "0      0        1     0    0   0         0       0         0       0        0   \n",
       "1      0        1     0    0   0         0       0         0       0        0   \n",
       "2      0        0     0    0   0         0       1         0       0        0   \n",
       "3      0        1     0    0   0         0       0         0       0        0   \n",
       "4      0        0     0    0   1         0       0         0       0        0   \n",
       "\n",
       "   Renault  Skoda  Ssangyong  Tata  Toyota  Volkswagen  A  A3  A4  ALTROZ  \\\n",
       "0        0      0          0     0       0           0  0   0   0       0   \n",
       "1        0      0          0     0       0           0  0   0   0       0   \n",
       "2        0      0          0     0       0           0  0   0   0       0   \n",
       "3        0      0          0     0       0           0  0   0   0       0   \n",
       "4        0      0          0     0       0           0  0   0   0       0   \n",
       "\n",
       "   AURA  Alto  Amaze  Ameo  BR-V  Baleno  Benz  Bolero  Brio  CRV  Camry  \\\n",
       "0     0     0      0     0     0       0     0       0     0    0      0   \n",
       "1     0     0      0     0     0       0     0       0     0    0      0   \n",
       "2     0     0      0     0     0       0     0       0     0    0      0   \n",
       "3     0     0      0     0     0       0     0       0     0    0      0   \n",
       "4     0     0      0     0     0       0     0       0     0    0      0   \n",
       "\n",
       "   Captur  Celerio  Ciaz  City  Civic  Compass  Corolla  Creta  Cruze  Duster  \\\n",
       "0       0        0     0     0      0        0        0      0      0       0   \n",
       "1       0        0     0     0      0        0        0      1      0       0   \n",
       "2       0        0     0     0      0        0        0      0      0       0   \n",
       "3       0        0     0     0      0        0        0      0      0       0   \n",
       "4       0        0     0     0      0        0        0      0      0       0   \n",
       "\n",
       "   Dzire  Ecosport  Eeco  Elite  Endeavour  Eon  Ertiga  Etios  FREESTYLE  \\\n",
       "0      0         0     0      0          0    0       0      0          0   \n",
       "1      0         0     0      0          0    0       0      0          0   \n",
       "2      0         0     0      0          0    0       0      0          0   \n",
       "3      0         0     0      1          0    0       0      0          0   \n",
       "4      0         0     0      0          0    0       0      0          0   \n",
       "\n",
       "   Figo  Fortuner  GRAND  Glanza  Go  Grand  HECTOR  Harrier  Hexa  IGNIS  \\\n",
       "0     0         0      0       0   0      0       0        0     0      0   \n",
       "1     0         0      0       0   0      0       0        0     0      0   \n",
       "2     0         0      0       0   0      0       0        0     0      0   \n",
       "3     0         0      0       0   0      0       0        0     0      0   \n",
       "4     0         0      0       0   0      0       1        0     0      0   \n",
       "\n",
       "   Innova  Jazz  Jetta  KAROQ  Kiger  Kuv100  Kwid  Lodgy  MARAZZO  Micra  \\\n",
       "0       0     0      0      0      0       0     0      0        0      0   \n",
       "1       0     0      0      0      0       0     0      0        0      0   \n",
       "2       0     0      0      0      0       0     0      0        0      0   \n",
       "3       0     0      0      0      0       0     0      0        0      0   \n",
       "4       0     0      0      0      0       0     0      0        0      0   \n",
       "\n",
       "   Mobilio  NEW  NEXON  Nano  New  OMNI  Octavia  Polo  Q3  Rapid  Redi  \\\n",
       "0        0    0      0     0    0     0        0     0   0      0     0   \n",
       "1        0    0      0     0    0     0        0     0   0      0     0   \n",
       "2        0    0      0     0    0     0        0     0   0      0     0   \n",
       "3        0    0      0     0    0     0        0     0   0      0     0   \n",
       "4        0    0      0     0    0     0        0     0   0      0     0   \n",
       "\n",
       "   Rexton  Ritz  S  SELTOS  Santro  Scorpio  Swift  TRIBER  TUV300  Terrano  \\\n",
       "0       0     0  0       0       0        0      0       0       0        0   \n",
       "1       0     0  0       0       0        0      0       0       0        0   \n",
       "2       0     0  0       0       0        0      1       0       0        0   \n",
       "3       0     0  0       0       0        0      0       0       0        0   \n",
       "4       0     0  0       0       0        0      0       0       0        0   \n",
       "\n",
       "   Tiago  Tucson  VENUE  Vento  Verna  Vitara  WR-V  Wagon  X1  XL6  XUV  \\\n",
       "0      0       0      0      0      1       0     0      0   0    0    0   \n",
       "1      0       0      0      0      0       0     0      0   0    0    0   \n",
       "2      0       0      0      0      0       0     0      0   0    0    0   \n",
       "3      0       0      0      0      0       0     0      0   0    0    0   \n",
       "4      0       0      0      0      0       0     0      0   0    0    0   \n",
       "\n",
       "   XUV500  Xcent  YARIS  Zen  i10  i20  \n",
       "0       0      0      0    0    0    0  \n",
       "1       0      0      0    0    0    0  \n",
       "2       0      0      0    0    0    0  \n",
       "3       0      0      0    0    0    0  \n",
       "4       0      0      0    0    0    0  "
      ]
     },
     "execution_count": 55,
     "metadata": {},
     "output_type": "execute_result"
    }
   ],
   "source": [
    "df.head() # Dummy variables have been created"
   ]
  },
  {
   "cell_type": "code",
   "execution_count": 56,
   "metadata": {},
   "outputs": [
    {
     "data": {
      "text/plain": [
       "(3545, 153)"
      ]
     },
     "execution_count": 56,
     "metadata": {},
     "output_type": "execute_result"
    }
   ],
   "source": [
    "df.shape # We have 5339 rows, and 157 coulmns after creating dummy variables"
   ]
  },
  {
   "cell_type": "code",
   "execution_count": 57,
   "metadata": {},
   "outputs": [
    {
     "name": "stdout",
     "output_type": "stream",
     "text": [
      "Skew of Pirce: 2.027153091935312\n"
     ]
    },
    {
     "data": {
      "image/png": "[encoded data removed]",
      "text/plain": [
       "<Figure size 360x360 with 1 Axes>"
      ]
     },
     "metadata": {
      "needs_background": "light"
     },
     "output_type": "display_data"
    }
   ],
   "source": [
    "fig = plt.figure(figsize=(5,5))\n",
    "\n",
    "print (\"Skew of Price:\", df.Price.skew())\n",
    "plt.hist(df.Price,  color='red')\n",
    "plt.show() # Checking skew of target variable"
   ]
  },
  {
   "cell_type": "code",
   "execution_count": 58,
   "metadata": {},
   "outputs": [
    {
     "name": "stdout",
     "output_type": "stream",
     "text": [
      "Skew of Log-Transformed Price: 0.36173692988097933\n"
     ]
    },
    {
     "data": {
      "image/png": "[encoded data removed]",
      "text/plain": [
       "<Figure size 360x360 with 1 Axes>"
      ]
     },
     "metadata": {
      "needs_background": "light"
     },
     "output_type": "display_data"
    }
   ],
   "source": [
    "fig = plt.figure(figsize=(5,5))\n",
    "\n",
    "print (\"Skew of Log-Transformed Price:\", np.log1p(df.Price).skew())\n",
    "plt.hist(np.log1p(df.Price), color='green')\n",
    "plt.show() # Fixing the skew by taking log"
   ]
  },
  {
   "cell_type": "code",
   "execution_count": 59,
   "metadata": {},
   "outputs": [
    {
     "name": "stdout",
     "output_type": "stream",
     "text": [
      "Skew of Mileage 1.6141683221881855\n"
     ]
    },
    {
     "data": {
      "image/png": "[encoded data removed]",
      "text/plain": [
       "<Figure size 360x360 with 1 Axes>"
      ]
     },
     "metadata": {
      "needs_background": "light"
     },
     "output_type": "display_data"
    }
   ],
   "source": [
    "fig = plt.figure(figsize=(5,5))\n",
    "\n",
    "print (\"Skew of Mileage\", df.Mileage.skew())\n",
    "plt.hist(df.Mileage,  color='red')\n",
    "plt.show() # Checking skew of variable"
   ]
  },
  {
   "cell_type": "code",
   "execution_count": 60,
   "metadata": {},
   "outputs": [
    {
     "name": "stdout",
     "output_type": "stream",
     "text": [
      "Skew of Log-Transformed Mileage -1.476125625236642\n"
     ]
    },
    {
     "data": {
      "image/png": "[encoded data removed]",
      "text/plain": [
       "<Figure size 360x360 with 1 Axes>"
      ]
     },
     "metadata": {
      "needs_background": "light"
     },
     "output_type": "display_data"
    }
   ],
   "source": [
    "fig = plt.figure(figsize=(5,5))\n",
    "\n",
    "print (\"Skew of Log-Transformed Mileage\", np.log1p(df.Mileage).skew())\n",
    "plt.hist(np.log1p(df.Mileage), color='green')\n",
    "plt.show() # Reducting the skew by taking log"
   ]
  },
  {
   "cell_type": "markdown",
   "metadata": {},
   "source": [
    "### Model building phase"
   ]
  },
  {
   "cell_type": "code",
   "execution_count": 61,
   "metadata": {},
   "outputs": [],
   "source": [
    "from sklearn.model_selection import train_test_split\n",
    "from sklearn.linear_model import LogisticRegression\n",
    "from sklearn.tree import DecisionTreeRegressor\n",
    "from sklearn import linear_model\n",
    "from sklearn.linear_model import LinearRegression\n",
    "from sklearn.ensemble import RandomForestRegressor\n",
    "from sklearn.svm import SVR\n",
    "from sklearn.model_selection import cross_val_score, cross_val_predict\n",
    "import sklearn.metrics as sm\n",
    "from math import e\n",
    "# Importing useful libraries"
   ]
  },
  {
   "cell_type": "code",
   "execution_count": 62,
   "metadata": {},
   "outputs": [
    {
     "data": {
      "text/html": [
       "<div>\n",
       "<style scoped>\n",
       "    .dataframe tbody tr th:only-of-type {\n",
       "        vertical-align: middle;\n",
       "    }\n",
       "\n",
       "    .dataframe tbody tr th {\n",
       "        vertical-align: top;\n",
       "    }\n",
       "\n",
       "    .dataframe thead th {\n",
       "        text-align: right;\n",
       "    }\n",
       "</style>\n",
       "<table border=\"1\" class=\"dataframe\">\n",
       "  <thead>\n",
       "    <tr style=\"text-align: right;\">\n",
       "      <th></th>\n",
       "      <th>Mileage</th>\n",
       "      <th>Price</th>\n",
       "      <th>Year</th>\n",
       "      <th>Manual</th>\n",
       "      <th>1.5-2.0 Liter</th>\n",
       "      <th>2.0+ Liter</th>\n",
       "      <th>Basic Diesel</th>\n",
       "      <th>Basic Petrol</th>\n",
       "      <th>Middle Petrol</th>\n",
       "      <th>Other</th>\n",
       "      <th>RXT</th>\n",
       "      <th>Top Diesel</th>\n",
       "      <th>Top Petrol</th>\n",
       "      <th>2nd Owner</th>\n",
       "      <th>3rd Owner</th>\n",
       "      <th>4th Owner</th>\n",
       "      <th>Petrol</th>\n",
       "      <th>Petrol + CNG</th>\n",
       "      <th>Petrol + LPG</th>\n",
       "      <th>Bengaluru</th>\n",
       "      <th>Bhopal</th>\n",
       "      <th>Chandigarh</th>\n",
       "      <th>Chennai</th>\n",
       "      <th>Delhi</th>\n",
       "      <th>Hyderabad</th>\n",
       "      <th>Jaipur</th>\n",
       "      <th>Kochi</th>\n",
       "      <th>Kolkata</th>\n",
       "      <th>Lucknow</th>\n",
       "      <th>Ludhiana</th>\n",
       "      <th>Meerut</th>\n",
       "      <th>Mumbai</th>\n",
       "      <th>Mysore</th>\n",
       "      <th>Nasik</th>\n",
       "      <th>Panipat</th>\n",
       "      <th>Pune</th>\n",
       "      <th>Rajkot</th>\n",
       "      <th>Rohtak</th>\n",
       "      <th>Surat</th>\n",
       "      <th>Vadodara</th>\n",
       "      <th>BMW</th>\n",
       "      <th>Chevrolet</th>\n",
       "      <th>Datsun</th>\n",
       "      <th>Ford</th>\n",
       "      <th>HYUNDAI</th>\n",
       "      <th>Honda</th>\n",
       "      <th>Hyundai</th>\n",
       "      <th>Jeep</th>\n",
       "      <th>KIA</th>\n",
       "      <th>MG</th>\n",
       "      <th>Mahindra</th>\n",
       "      <th>Maruti</th>\n",
       "      <th>Mercedes</th>\n",
       "      <th>Nissan</th>\n",
       "      <th>RENAULT</th>\n",
       "      <th>Renault</th>\n",
       "      <th>Skoda</th>\n",
       "      <th>Ssangyong</th>\n",
       "      <th>Tata</th>\n",
       "      <th>Toyota</th>\n",
       "      <th>Volkswagen</th>\n",
       "      <th>A</th>\n",
       "      <th>A3</th>\n",
       "      <th>A4</th>\n",
       "      <th>ALTROZ</th>\n",
       "      <th>AURA</th>\n",
       "      <th>Alto</th>\n",
       "      <th>Amaze</th>\n",
       "      <th>Ameo</th>\n",
       "      <th>BR-V</th>\n",
       "      <th>Baleno</th>\n",
       "      <th>Benz</th>\n",
       "      <th>Bolero</th>\n",
       "      <th>Brio</th>\n",
       "      <th>CRV</th>\n",
       "      <th>Camry</th>\n",
       "      <th>Captur</th>\n",
       "      <th>Celerio</th>\n",
       "      <th>Ciaz</th>\n",
       "      <th>City</th>\n",
       "      <th>Civic</th>\n",
       "      <th>Compass</th>\n",
       "      <th>Corolla</th>\n",
       "      <th>Creta</th>\n",
       "      <th>Cruze</th>\n",
       "      <th>Duster</th>\n",
       "      <th>Dzire</th>\n",
       "      <th>Ecosport</th>\n",
       "      <th>Eeco</th>\n",
       "      <th>Elite</th>\n",
       "      <th>Endeavour</th>\n",
       "      <th>Eon</th>\n",
       "      <th>Ertiga</th>\n",
       "      <th>Etios</th>\n",
       "      <th>FREESTYLE</th>\n",
       "      <th>Figo</th>\n",
       "      <th>Fortuner</th>\n",
       "      <th>GRAND</th>\n",
       "      <th>Glanza</th>\n",
       "      <th>Go</th>\n",
       "      <th>Grand</th>\n",
       "      <th>HECTOR</th>\n",
       "      <th>Harrier</th>\n",
       "      <th>Hexa</th>\n",
       "      <th>IGNIS</th>\n",
       "      <th>Innova</th>\n",
       "      <th>Jazz</th>\n",
       "      <th>Jetta</th>\n",
       "      <th>KAROQ</th>\n",
       "      <th>Kiger</th>\n",
       "      <th>Kuv100</th>\n",
       "      <th>Kwid</th>\n",
       "      <th>Lodgy</th>\n",
       "      <th>MARAZZO</th>\n",
       "      <th>Micra</th>\n",
       "      <th>Mobilio</th>\n",
       "      <th>NEW</th>\n",
       "      <th>NEXON</th>\n",
       "      <th>Nano</th>\n",
       "      <th>New</th>\n",
       "      <th>OMNI</th>\n",
       "      <th>Octavia</th>\n",
       "      <th>Polo</th>\n",
       "      <th>Q3</th>\n",
       "      <th>Rapid</th>\n",
       "      <th>Redi</th>\n",
       "      <th>Rexton</th>\n",
       "      <th>Ritz</th>\n",
       "      <th>S</th>\n",
       "      <th>SELTOS</th>\n",
       "      <th>Santro</th>\n",
       "      <th>Scorpio</th>\n",
       "      <th>Swift</th>\n",
       "      <th>TRIBER</th>\n",
       "      <th>TUV300</th>\n",
       "      <th>Terrano</th>\n",
       "      <th>Tiago</th>\n",
       "      <th>Tucson</th>\n",
       "      <th>VENUE</th>\n",
       "      <th>Vento</th>\n",
       "      <th>Verna</th>\n",
       "      <th>Vitara</th>\n",
       "      <th>WR-V</th>\n",
       "      <th>Wagon</th>\n",
       "      <th>X1</th>\n",
       "      <th>XL6</th>\n",
       "      <th>XUV</th>\n",
       "      <th>XUV500</th>\n",
       "      <th>Xcent</th>\n",
       "      <th>YARIS</th>\n",
       "      <th>Zen</th>\n",
       "      <th>i10</th>\n",
       "      <th>i20</th>\n",
       "    </tr>\n",
       "  </thead>\n",
       "  <tbody>\n",
       "    <tr>\n",
       "      <th>0</th>\n",
       "      <td>53517</td>\n",
       "      <td>482299</td>\n",
       "      <td>2013</td>\n",
       "      <td>1</td>\n",
       "      <td>1</td>\n",
       "      <td>0</td>\n",
       "      <td>0</td>\n",
       "      <td>0</td>\n",
       "      <td>0</td>\n",
       "      <td>0</td>\n",
       "      <td>0</td>\n",
       "      <td>0</td>\n",
       "      <td>0</td>\n",
       "      <td>0</td>\n",
       "      <td>0</td>\n",
       "      <td>0</td>\n",
       "      <td>0</td>\n",
       "      <td>0</td>\n",
       "      <td>0</td>\n",
       "      <td>0</td>\n",
       "      <td>0</td>\n",
       "      <td>0</td>\n",
       "      <td>0</td>\n",
       "      <td>0</td>\n",
       "      <td>0</td>\n",
       "      <td>0</td>\n",
       "      <td>0</td>\n",
       "      <td>0</td>\n",
       "      <td>0</td>\n",
       "      <td>0</td>\n",
       "      <td>0</td>\n",
       "      <td>0</td>\n",
       "      <td>0</td>\n",
       "      <td>0</td>\n",
       "      <td>0</td>\n",
       "      <td>0</td>\n",
       "      <td>0</td>\n",
       "      <td>1</td>\n",
       "      <td>0</td>\n",
       "      <td>0</td>\n",
       "      <td>0</td>\n",
       "      <td>0</td>\n",
       "      <td>0</td>\n",
       "      <td>0</td>\n",
       "      <td>0</td>\n",
       "      <td>0</td>\n",
       "      <td>1</td>\n",
       "      <td>0</td>\n",
       "      <td>0</td>\n",
       "      <td>0</td>\n",
       "      <td>0</td>\n",
       "      <td>0</td>\n",
       "      <td>0</td>\n",
       "      <td>0</td>\n",
       "      <td>0</td>\n",
       "      <td>0</td>\n",
       "      <td>0</td>\n",
       "      <td>0</td>\n",
       "      <td>0</td>\n",
       "      <td>0</td>\n",
       "      <td>0</td>\n",
       "      <td>0</td>\n",
       "      <td>0</td>\n",
       "      <td>0</td>\n",
       "      <td>0</td>\n",
       "      <td>0</td>\n",
       "      <td>0</td>\n",
       "      <td>0</td>\n",
       "      <td>0</td>\n",
       "      <td>0</td>\n",
       "      <td>0</td>\n",
       "      <td>0</td>\n",
       "      <td>0</td>\n",
       "      <td>0</td>\n",
       "      <td>0</td>\n",
       "      <td>0</td>\n",
       "      <td>0</td>\n",
       "      <td>0</td>\n",
       "      <td>0</td>\n",
       "      <td>0</td>\n",
       "      <td>0</td>\n",
       "      <td>0</td>\n",
       "      <td>0</td>\n",
       "      <td>0</td>\n",
       "      <td>0</td>\n",
       "      <td>0</td>\n",
       "      <td>0</td>\n",
       "      <td>0</td>\n",
       "      <td>0</td>\n",
       "      <td>0</td>\n",
       "      <td>0</td>\n",
       "      <td>0</td>\n",
       "      <td>0</td>\n",
       "      <td>0</td>\n",
       "      <td>0</td>\n",
       "      <td>0</td>\n",
       "      <td>0</td>\n",
       "      <td>0</td>\n",
       "      <td>0</td>\n",
       "      <td>0</td>\n",
       "      <td>0</td>\n",
       "      <td>0</td>\n",
       "      <td>0</td>\n",
       "      <td>0</td>\n",
       "      <td>0</td>\n",
       "      <td>0</td>\n",
       "      <td>0</td>\n",
       "      <td>0</td>\n",
       "      <td>0</td>\n",
       "      <td>0</td>\n",
       "      <td>0</td>\n",
       "      <td>0</td>\n",
       "      <td>0</td>\n",
       "      <td>0</td>\n",
       "      <td>0</td>\n",
       "      <td>0</td>\n",
       "      <td>0</td>\n",
       "      <td>0</td>\n",
       "      <td>0</td>\n",
       "      <td>0</td>\n",
       "      <td>0</td>\n",
       "      <td>0</td>\n",
       "      <td>0</td>\n",
       "      <td>0</td>\n",
       "      <td>0</td>\n",
       "      <td>0</td>\n",
       "      <td>0</td>\n",
       "      <td>0</td>\n",
       "      <td>0</td>\n",
       "      <td>0</td>\n",
       "      <td>0</td>\n",
       "      <td>0</td>\n",
       "      <td>0</td>\n",
       "      <td>0</td>\n",
       "      <td>0</td>\n",
       "      <td>0</td>\n",
       "      <td>0</td>\n",
       "      <td>0</td>\n",
       "      <td>0</td>\n",
       "      <td>0</td>\n",
       "      <td>1</td>\n",
       "      <td>0</td>\n",
       "      <td>0</td>\n",
       "      <td>0</td>\n",
       "      <td>0</td>\n",
       "      <td>0</td>\n",
       "      <td>0</td>\n",
       "      <td>0</td>\n",
       "      <td>0</td>\n",
       "      <td>0</td>\n",
       "      <td>0</td>\n",
       "      <td>0</td>\n",
       "      <td>0</td>\n",
       "    </tr>\n",
       "    <tr>\n",
       "      <th>1</th>\n",
       "      <td>39294</td>\n",
       "      <td>898999</td>\n",
       "      <td>2018</td>\n",
       "      <td>1</td>\n",
       "      <td>1</td>\n",
       "      <td>0</td>\n",
       "      <td>0</td>\n",
       "      <td>0</td>\n",
       "      <td>0</td>\n",
       "      <td>0</td>\n",
       "      <td>0</td>\n",
       "      <td>0</td>\n",
       "      <td>0</td>\n",
       "      <td>1</td>\n",
       "      <td>0</td>\n",
       "      <td>0</td>\n",
       "      <td>1</td>\n",
       "      <td>0</td>\n",
       "      <td>0</td>\n",
       "      <td>0</td>\n",
       "      <td>0</td>\n",
       "      <td>0</td>\n",
       "      <td>0</td>\n",
       "      <td>0</td>\n",
       "      <td>0</td>\n",
       "      <td>0</td>\n",
       "      <td>0</td>\n",
       "      <td>0</td>\n",
       "      <td>0</td>\n",
       "      <td>0</td>\n",
       "      <td>0</td>\n",
       "      <td>0</td>\n",
       "      <td>0</td>\n",
       "      <td>0</td>\n",
       "      <td>0</td>\n",
       "      <td>0</td>\n",
       "      <td>0</td>\n",
       "      <td>1</td>\n",
       "      <td>0</td>\n",
       "      <td>0</td>\n",
       "      <td>0</td>\n",
       "      <td>0</td>\n",
       "      <td>0</td>\n",
       "      <td>0</td>\n",
       "      <td>0</td>\n",
       "      <td>0</td>\n",
       "      <td>1</td>\n",
       "      <td>0</td>\n",
       "      <td>0</td>\n",
       "      <td>0</td>\n",
       "      <td>0</td>\n",
       "      <td>0</td>\n",
       "      <td>0</td>\n",
       "      <td>0</td>\n",
       "      <td>0</td>\n",
       "      <td>0</td>\n",
       "      <td>0</td>\n",
       "      <td>0</td>\n",
       "      <td>0</td>\n",
       "      <td>0</td>\n",
       "      <td>0</td>\n",
       "      <td>0</td>\n",
       "      <td>0</td>\n",
       "      <td>0</td>\n",
       "      <td>0</td>\n",
       "      <td>0</td>\n",
       "      <td>0</td>\n",
       "      <td>0</td>\n",
       "      <td>0</td>\n",
       "      <td>0</td>\n",
       "      <td>0</td>\n",
       "      <td>0</td>\n",
       "      <td>0</td>\n",
       "      <td>0</td>\n",
       "      <td>0</td>\n",
       "      <td>0</td>\n",
       "      <td>0</td>\n",
       "      <td>0</td>\n",
       "      <td>0</td>\n",
       "      <td>0</td>\n",
       "      <td>0</td>\n",
       "      <td>0</td>\n",
       "      <td>0</td>\n",
       "      <td>1</td>\n",
       "      <td>0</td>\n",
       "      <td>0</td>\n",
       "      <td>0</td>\n",
       "      <td>0</td>\n",
       "      <td>0</td>\n",
       "      <td>0</td>\n",
       "      <td>0</td>\n",
       "      <td>0</td>\n",
       "      <td>0</td>\n",
       "      <td>0</td>\n",
       "      <td>0</td>\n",
       "      <td>0</td>\n",
       "      <td>0</td>\n",
       "      <td>0</td>\n",
       "      <td>0</td>\n",
       "      <td>0</td>\n",
       "      <td>0</td>\n",
       "      <td>0</td>\n",
       "      <td>0</td>\n",
       "      <td>0</td>\n",
       "      <td>0</td>\n",
       "      <td>0</td>\n",
       "      <td>0</td>\n",
       "      <td>0</td>\n",
       "      <td>0</td>\n",
       "      <td>0</td>\n",
       "      <td>0</td>\n",
       "      <td>0</td>\n",
       "      <td>0</td>\n",
       "      <td>0</td>\n",
       "      <td>0</td>\n",
       "      <td>0</td>\n",
       "      <td>0</td>\n",
       "      <td>0</td>\n",
       "      <td>0</td>\n",
       "      <td>0</td>\n",
       "      <td>0</td>\n",
       "      <td>0</td>\n",
       "      <td>0</td>\n",
       "      <td>0</td>\n",
       "      <td>0</td>\n",
       "      <td>0</td>\n",
       "      <td>0</td>\n",
       "      <td>0</td>\n",
       "      <td>0</td>\n",
       "      <td>0</td>\n",
       "      <td>0</td>\n",
       "      <td>0</td>\n",
       "      <td>0</td>\n",
       "      <td>0</td>\n",
       "      <td>0</td>\n",
       "      <td>0</td>\n",
       "      <td>0</td>\n",
       "      <td>0</td>\n",
       "      <td>0</td>\n",
       "      <td>0</td>\n",
       "      <td>0</td>\n",
       "      <td>0</td>\n",
       "      <td>0</td>\n",
       "      <td>0</td>\n",
       "      <td>0</td>\n",
       "      <td>0</td>\n",
       "      <td>0</td>\n",
       "      <td>0</td>\n",
       "      <td>0</td>\n",
       "      <td>0</td>\n",
       "      <td>0</td>\n",
       "      <td>0</td>\n",
       "      <td>0</td>\n",
       "    </tr>\n",
       "    <tr>\n",
       "      <th>2</th>\n",
       "      <td>69894</td>\n",
       "      <td>474699</td>\n",
       "      <td>2017</td>\n",
       "      <td>1</td>\n",
       "      <td>0</td>\n",
       "      <td>0</td>\n",
       "      <td>1</td>\n",
       "      <td>0</td>\n",
       "      <td>0</td>\n",
       "      <td>0</td>\n",
       "      <td>0</td>\n",
       "      <td>0</td>\n",
       "      <td>0</td>\n",
       "      <td>0</td>\n",
       "      <td>0</td>\n",
       "      <td>0</td>\n",
       "      <td>0</td>\n",
       "      <td>0</td>\n",
       "      <td>0</td>\n",
       "      <td>0</td>\n",
       "      <td>0</td>\n",
       "      <td>0</td>\n",
       "      <td>0</td>\n",
       "      <td>0</td>\n",
       "      <td>0</td>\n",
       "      <td>0</td>\n",
       "      <td>0</td>\n",
       "      <td>0</td>\n",
       "      <td>0</td>\n",
       "      <td>0</td>\n",
       "      <td>0</td>\n",
       "      <td>0</td>\n",
       "      <td>0</td>\n",
       "      <td>0</td>\n",
       "      <td>0</td>\n",
       "      <td>0</td>\n",
       "      <td>0</td>\n",
       "      <td>1</td>\n",
       "      <td>0</td>\n",
       "      <td>0</td>\n",
       "      <td>0</td>\n",
       "      <td>0</td>\n",
       "      <td>0</td>\n",
       "      <td>0</td>\n",
       "      <td>0</td>\n",
       "      <td>0</td>\n",
       "      <td>0</td>\n",
       "      <td>0</td>\n",
       "      <td>0</td>\n",
       "      <td>0</td>\n",
       "      <td>0</td>\n",
       "      <td>1</td>\n",
       "      <td>0</td>\n",
       "      <td>0</td>\n",
       "      <td>0</td>\n",
       "      <td>0</td>\n",
       "      <td>0</td>\n",
       "      <td>0</td>\n",
       "      <td>0</td>\n",
       "      <td>0</td>\n",
       "      <td>0</td>\n",
       "      <td>0</td>\n",
       "      <td>0</td>\n",
       "      <td>0</td>\n",
       "      <td>0</td>\n",
       "      <td>0</td>\n",
       "      <td>0</td>\n",
       "      <td>0</td>\n",
       "      <td>0</td>\n",
       "      <td>0</td>\n",
       "      <td>0</td>\n",
       "      <td>0</td>\n",
       "      <td>0</td>\n",
       "      <td>0</td>\n",
       "      <td>0</td>\n",
       "      <td>0</td>\n",
       "      <td>0</td>\n",
       "      <td>0</td>\n",
       "      <td>0</td>\n",
       "      <td>0</td>\n",
       "      <td>0</td>\n",
       "      <td>0</td>\n",
       "      <td>0</td>\n",
       "      <td>0</td>\n",
       "      <td>0</td>\n",
       "      <td>0</td>\n",
       "      <td>0</td>\n",
       "      <td>0</td>\n",
       "      <td>0</td>\n",
       "      <td>0</td>\n",
       "      <td>0</td>\n",
       "      <td>0</td>\n",
       "      <td>0</td>\n",
       "      <td>0</td>\n",
       "      <td>0</td>\n",
       "      <td>0</td>\n",
       "      <td>0</td>\n",
       "      <td>0</td>\n",
       "      <td>0</td>\n",
       "      <td>0</td>\n",
       "      <td>0</td>\n",
       "      <td>0</td>\n",
       "      <td>0</td>\n",
       "      <td>0</td>\n",
       "      <td>0</td>\n",
       "      <td>0</td>\n",
       "      <td>0</td>\n",
       "      <td>0</td>\n",
       "      <td>0</td>\n",
       "      <td>0</td>\n",
       "      <td>0</td>\n",
       "      <td>0</td>\n",
       "      <td>0</td>\n",
       "      <td>0</td>\n",
       "      <td>0</td>\n",
       "      <td>0</td>\n",
       "      <td>0</td>\n",
       "      <td>0</td>\n",
       "      <td>0</td>\n",
       "      <td>0</td>\n",
       "      <td>0</td>\n",
       "      <td>0</td>\n",
       "      <td>0</td>\n",
       "      <td>0</td>\n",
       "      <td>0</td>\n",
       "      <td>0</td>\n",
       "      <td>0</td>\n",
       "      <td>0</td>\n",
       "      <td>0</td>\n",
       "      <td>0</td>\n",
       "      <td>0</td>\n",
       "      <td>0</td>\n",
       "      <td>1</td>\n",
       "      <td>0</td>\n",
       "      <td>0</td>\n",
       "      <td>0</td>\n",
       "      <td>0</td>\n",
       "      <td>0</td>\n",
       "      <td>0</td>\n",
       "      <td>0</td>\n",
       "      <td>0</td>\n",
       "      <td>0</td>\n",
       "      <td>0</td>\n",
       "      <td>0</td>\n",
       "      <td>0</td>\n",
       "      <td>0</td>\n",
       "      <td>0</td>\n",
       "      <td>0</td>\n",
       "      <td>0</td>\n",
       "      <td>0</td>\n",
       "      <td>0</td>\n",
       "      <td>0</td>\n",
       "      <td>0</td>\n",
       "    </tr>\n",
       "    <tr>\n",
       "      <th>3</th>\n",
       "      <td>48582</td>\n",
       "      <td>590199</td>\n",
       "      <td>2018</td>\n",
       "      <td>1</td>\n",
       "      <td>0</td>\n",
       "      <td>0</td>\n",
       "      <td>0</td>\n",
       "      <td>0</td>\n",
       "      <td>0</td>\n",
       "      <td>0</td>\n",
       "      <td>0</td>\n",
       "      <td>0</td>\n",
       "      <td>0</td>\n",
       "      <td>0</td>\n",
       "      <td>0</td>\n",
       "      <td>0</td>\n",
       "      <td>1</td>\n",
       "      <td>0</td>\n",
       "      <td>0</td>\n",
       "      <td>0</td>\n",
       "      <td>0</td>\n",
       "      <td>0</td>\n",
       "      <td>0</td>\n",
       "      <td>0</td>\n",
       "      <td>0</td>\n",
       "      <td>0</td>\n",
       "      <td>0</td>\n",
       "      <td>0</td>\n",
       "      <td>0</td>\n",
       "      <td>0</td>\n",
       "      <td>0</td>\n",
       "      <td>0</td>\n",
       "      <td>0</td>\n",
       "      <td>0</td>\n",
       "      <td>0</td>\n",
       "      <td>0</td>\n",
       "      <td>0</td>\n",
       "      <td>1</td>\n",
       "      <td>0</td>\n",
       "      <td>0</td>\n",
       "      <td>0</td>\n",
       "      <td>0</td>\n",
       "      <td>0</td>\n",
       "      <td>0</td>\n",
       "      <td>0</td>\n",
       "      <td>0</td>\n",
       "      <td>1</td>\n",
       "      <td>0</td>\n",
       "      <td>0</td>\n",
       "      <td>0</td>\n",
       "      <td>0</td>\n",
       "      <td>0</td>\n",
       "      <td>0</td>\n",
       "      <td>0</td>\n",
       "      <td>0</td>\n",
       "      <td>0</td>\n",
       "      <td>0</td>\n",
       "      <td>0</td>\n",
       "      <td>0</td>\n",
       "      <td>0</td>\n",
       "      <td>0</td>\n",
       "      <td>0</td>\n",
       "      <td>0</td>\n",
       "      <td>0</td>\n",
       "      <td>0</td>\n",
       "      <td>0</td>\n",
       "      <td>0</td>\n",
       "      <td>0</td>\n",
       "      <td>0</td>\n",
       "      <td>0</td>\n",
       "      <td>0</td>\n",
       "      <td>0</td>\n",
       "      <td>0</td>\n",
       "      <td>0</td>\n",
       "      <td>0</td>\n",
       "      <td>0</td>\n",
       "      <td>0</td>\n",
       "      <td>0</td>\n",
       "      <td>0</td>\n",
       "      <td>0</td>\n",
       "      <td>0</td>\n",
       "      <td>0</td>\n",
       "      <td>0</td>\n",
       "      <td>0</td>\n",
       "      <td>0</td>\n",
       "      <td>0</td>\n",
       "      <td>0</td>\n",
       "      <td>0</td>\n",
       "      <td>0</td>\n",
       "      <td>1</td>\n",
       "      <td>0</td>\n",
       "      <td>0</td>\n",
       "      <td>0</td>\n",
       "      <td>0</td>\n",
       "      <td>0</td>\n",
       "      <td>0</td>\n",
       "      <td>0</td>\n",
       "      <td>0</td>\n",
       "      <td>0</td>\n",
       "      <td>0</td>\n",
       "      <td>0</td>\n",
       "      <td>0</td>\n",
       "      <td>0</td>\n",
       "      <td>0</td>\n",
       "      <td>0</td>\n",
       "      <td>0</td>\n",
       "      <td>0</td>\n",
       "      <td>0</td>\n",
       "      <td>0</td>\n",
       "      <td>0</td>\n",
       "      <td>0</td>\n",
       "      <td>0</td>\n",
       "      <td>0</td>\n",
       "      <td>0</td>\n",
       "      <td>0</td>\n",
       "      <td>0</td>\n",
       "      <td>0</td>\n",
       "      <td>0</td>\n",
       "      <td>0</td>\n",
       "      <td>0</td>\n",
       "      <td>0</td>\n",
       "      <td>0</td>\n",
       "      <td>0</td>\n",
       "      <td>0</td>\n",
       "      <td>0</td>\n",
       "      <td>0</td>\n",
       "      <td>0</td>\n",
       "      <td>0</td>\n",
       "      <td>0</td>\n",
       "      <td>0</td>\n",
       "      <td>0</td>\n",
       "      <td>0</td>\n",
       "      <td>0</td>\n",
       "      <td>0</td>\n",
       "      <td>0</td>\n",
       "      <td>0</td>\n",
       "      <td>0</td>\n",
       "      <td>0</td>\n",
       "      <td>0</td>\n",
       "      <td>0</td>\n",
       "      <td>0</td>\n",
       "      <td>0</td>\n",
       "      <td>0</td>\n",
       "      <td>0</td>\n",
       "      <td>0</td>\n",
       "      <td>0</td>\n",
       "      <td>0</td>\n",
       "      <td>0</td>\n",
       "      <td>0</td>\n",
       "      <td>0</td>\n",
       "      <td>0</td>\n",
       "      <td>0</td>\n",
       "      <td>0</td>\n",
       "    </tr>\n",
       "    <tr>\n",
       "      <th>4</th>\n",
       "      <td>3094</td>\n",
       "      <td>1704999</td>\n",
       "      <td>2020</td>\n",
       "      <td>1</td>\n",
       "      <td>0</td>\n",
       "      <td>0</td>\n",
       "      <td>0</td>\n",
       "      <td>0</td>\n",
       "      <td>0</td>\n",
       "      <td>1</td>\n",
       "      <td>0</td>\n",
       "      <td>0</td>\n",
       "      <td>0</td>\n",
       "      <td>0</td>\n",
       "      <td>0</td>\n",
       "      <td>0</td>\n",
       "      <td>1</td>\n",
       "      <td>0</td>\n",
       "      <td>0</td>\n",
       "      <td>0</td>\n",
       "      <td>0</td>\n",
       "      <td>0</td>\n",
       "      <td>0</td>\n",
       "      <td>0</td>\n",
       "      <td>0</td>\n",
       "      <td>0</td>\n",
       "      <td>0</td>\n",
       "      <td>0</td>\n",
       "      <td>0</td>\n",
       "      <td>0</td>\n",
       "      <td>0</td>\n",
       "      <td>0</td>\n",
       "      <td>0</td>\n",
       "      <td>0</td>\n",
       "      <td>0</td>\n",
       "      <td>0</td>\n",
       "      <td>0</td>\n",
       "      <td>1</td>\n",
       "      <td>0</td>\n",
       "      <td>0</td>\n",
       "      <td>0</td>\n",
       "      <td>0</td>\n",
       "      <td>0</td>\n",
       "      <td>0</td>\n",
       "      <td>0</td>\n",
       "      <td>0</td>\n",
       "      <td>0</td>\n",
       "      <td>0</td>\n",
       "      <td>0</td>\n",
       "      <td>1</td>\n",
       "      <td>0</td>\n",
       "      <td>0</td>\n",
       "      <td>0</td>\n",
       "      <td>0</td>\n",
       "      <td>0</td>\n",
       "      <td>0</td>\n",
       "      <td>0</td>\n",
       "      <td>0</td>\n",
       "      <td>0</td>\n",
       "      <td>0</td>\n",
       "      <td>0</td>\n",
       "      <td>0</td>\n",
       "      <td>0</td>\n",
       "      <td>0</td>\n",
       "      <td>0</td>\n",
       "      <td>0</td>\n",
       "      <td>0</td>\n",
       "      <td>0</td>\n",
       "      <td>0</td>\n",
       "      <td>0</td>\n",
       "      <td>0</td>\n",
       "      <td>0</td>\n",
       "      <td>0</td>\n",
       "      <td>0</td>\n",
       "      <td>0</td>\n",
       "      <td>0</td>\n",
       "      <td>0</td>\n",
       "      <td>0</td>\n",
       "      <td>0</td>\n",
       "      <td>0</td>\n",
       "      <td>0</td>\n",
       "      <td>0</td>\n",
       "      <td>0</td>\n",
       "      <td>0</td>\n",
       "      <td>0</td>\n",
       "      <td>0</td>\n",
       "      <td>0</td>\n",
       "      <td>0</td>\n",
       "      <td>0</td>\n",
       "      <td>0</td>\n",
       "      <td>0</td>\n",
       "      <td>0</td>\n",
       "      <td>0</td>\n",
       "      <td>0</td>\n",
       "      <td>0</td>\n",
       "      <td>0</td>\n",
       "      <td>0</td>\n",
       "      <td>0</td>\n",
       "      <td>0</td>\n",
       "      <td>0</td>\n",
       "      <td>0</td>\n",
       "      <td>1</td>\n",
       "      <td>0</td>\n",
       "      <td>0</td>\n",
       "      <td>0</td>\n",
       "      <td>0</td>\n",
       "      <td>0</td>\n",
       "      <td>0</td>\n",
       "      <td>0</td>\n",
       "      <td>0</td>\n",
       "      <td>0</td>\n",
       "      <td>0</td>\n",
       "      <td>0</td>\n",
       "      <td>0</td>\n",
       "      <td>0</td>\n",
       "      <td>0</td>\n",
       "      <td>0</td>\n",
       "      <td>0</td>\n",
       "      <td>0</td>\n",
       "      <td>0</td>\n",
       "      <td>0</td>\n",
       "      <td>0</td>\n",
       "      <td>0</td>\n",
       "      <td>0</td>\n",
       "      <td>0</td>\n",
       "      <td>0</td>\n",
       "      <td>0</td>\n",
       "      <td>0</td>\n",
       "      <td>0</td>\n",
       "      <td>0</td>\n",
       "      <td>0</td>\n",
       "      <td>0</td>\n",
       "      <td>0</td>\n",
       "      <td>0</td>\n",
       "      <td>0</td>\n",
       "      <td>0</td>\n",
       "      <td>0</td>\n",
       "      <td>0</td>\n",
       "      <td>0</td>\n",
       "      <td>0</td>\n",
       "      <td>0</td>\n",
       "      <td>0</td>\n",
       "      <td>0</td>\n",
       "      <td>0</td>\n",
       "      <td>0</td>\n",
       "      <td>0</td>\n",
       "      <td>0</td>\n",
       "      <td>0</td>\n",
       "      <td>0</td>\n",
       "      <td>0</td>\n",
       "      <td>0</td>\n",
       "      <td>0</td>\n",
       "      <td>0</td>\n",
       "    </tr>\n",
       "  </tbody>\n",
       "</table>\n",
       "</div>"
      ],
      "text/plain": [
       "   Mileage    Price  Year  Manual  1.5-2.0 Liter  2.0+ Liter  Basic Diesel  \\\n",
       "0    53517   482299  2013       1              1           0             0   \n",
       "1    39294   898999  2018       1              1           0             0   \n",
       "2    69894   474699  2017       1              0           0             1   \n",
       "3    48582   590199  2018       1              0           0             0   \n",
       "4     3094  1704999  2020       1              0           0             0   \n",
       "\n",
       "   Basic Petrol  Middle Petrol  Other  RXT   Top Diesel  Top Petrol  \\\n",
       "0             0              0      0     0           0           0   \n",
       "1             0              0      0     0           0           0   \n",
       "2             0              0      0     0           0           0   \n",
       "3             0              0      0     0           0           0   \n",
       "4             0              0      1     0           0           0   \n",
       "\n",
       "   2nd Owner  3rd Owner  4th Owner  Petrol  Petrol + CNG  Petrol + LPG  \\\n",
       "0          0          0          0       0             0             0   \n",
       "1          1          0          0       1             0             0   \n",
       "2          0          0          0       0             0             0   \n",
       "3          0          0          0       1             0             0   \n",
       "4          0          0          0       1             0             0   \n",
       "\n",
       "   Bengaluru  Bhopal  Chandigarh  Chennai  Delhi  Hyderabad  Jaipur  Kochi  \\\n",
       "0          0       0           0        0      0          0       0      0   \n",
       "1          0       0           0        0      0          0       0      0   \n",
       "2          0       0           0        0      0          0       0      0   \n",
       "3          0       0           0        0      0          0       0      0   \n",
       "4          0       0           0        0      0          0       0      0   \n",
       "\n",
       "   Kolkata  Lucknow  Ludhiana  Meerut  Mumbai  Mysore  Nasik  Panipat  Pune  \\\n",
       "0        0        0         0       0       0       0      0        0     0   \n",
       "1        0        0         0       0       0       0      0        0     0   \n",
       "2        0        0         0       0       0       0      0        0     0   \n",
       "3        0        0         0       0       0       0      0        0     0   \n",
       "4        0        0         0       0       0       0      0        0     0   \n",
       "\n",
       "   Rajkot  Rohtak  Surat  Vadodara  BMW  Chevrolet  Datsun  Ford  HYUNDAI  \\\n",
       "0       0       1      0         0    0          0       0     0        0   \n",
       "1       0       1      0         0    0          0       0     0        0   \n",
       "2       0       1      0         0    0          0       0     0        0   \n",
       "3       0       1      0         0    0          0       0     0        0   \n",
       "4       0       1      0         0    0          0       0     0        0   \n",
       "\n",
       "   Honda  Hyundai  Jeep  KIA  MG  Mahindra  Maruti  Mercedes  Nissan  RENAULT  \\\n",
       "0      0        1     0    0   0         0       0         0       0        0   \n",
       "1      0        1     0    0   0         0       0         0       0        0   \n",
       "2      0        0     0    0   0         0       1         0       0        0   \n",
       "3      0        1     0    0   0         0       0         0       0        0   \n",
       "4      0        0     0    0   1         0       0         0       0        0   \n",
       "\n",
       "   Renault  Skoda  Ssangyong  Tata  Toyota  Volkswagen  A  A3  A4  ALTROZ  \\\n",
       "0        0      0          0     0       0           0  0   0   0       0   \n",
       "1        0      0          0     0       0           0  0   0   0       0   \n",
       "2        0      0          0     0       0           0  0   0   0       0   \n",
       "3        0      0          0     0       0           0  0   0   0       0   \n",
       "4        0      0          0     0       0           0  0   0   0       0   \n",
       "\n",
       "   AURA  Alto  Amaze  Ameo  BR-V  Baleno  Benz  Bolero  Brio  CRV  Camry  \\\n",
       "0     0     0      0     0     0       0     0       0     0    0      0   \n",
       "1     0     0      0     0     0       0     0       0     0    0      0   \n",
       "2     0     0      0     0     0       0     0       0     0    0      0   \n",
       "3     0     0      0     0     0       0     0       0     0    0      0   \n",
       "4     0     0      0     0     0       0     0       0     0    0      0   \n",
       "\n",
       "   Captur  Celerio  Ciaz  City  Civic  Compass  Corolla  Creta  Cruze  Duster  \\\n",
       "0       0        0     0     0      0        0        0      0      0       0   \n",
       "1       0        0     0     0      0        0        0      1      0       0   \n",
       "2       0        0     0     0      0        0        0      0      0       0   \n",
       "3       0        0     0     0      0        0        0      0      0       0   \n",
       "4       0        0     0     0      0        0        0      0      0       0   \n",
       "\n",
       "   Dzire  Ecosport  Eeco  Elite  Endeavour  Eon  Ertiga  Etios  FREESTYLE  \\\n",
       "0      0         0     0      0          0    0       0      0          0   \n",
       "1      0         0     0      0          0    0       0      0          0   \n",
       "2      0         0     0      0          0    0       0      0          0   \n",
       "3      0         0     0      1          0    0       0      0          0   \n",
       "4      0         0     0      0          0    0       0      0          0   \n",
       "\n",
       "   Figo  Fortuner  GRAND  Glanza  Go  Grand  HECTOR  Harrier  Hexa  IGNIS  \\\n",
       "0     0         0      0       0   0      0       0        0     0      0   \n",
       "1     0         0      0       0   0      0       0        0     0      0   \n",
       "2     0         0      0       0   0      0       0        0     0      0   \n",
       "3     0         0      0       0   0      0       0        0     0      0   \n",
       "4     0         0      0       0   0      0       1        0     0      0   \n",
       "\n",
       "   Innova  Jazz  Jetta  KAROQ  Kiger  Kuv100  Kwid  Lodgy  MARAZZO  Micra  \\\n",
       "0       0     0      0      0      0       0     0      0        0      0   \n",
       "1       0     0      0      0      0       0     0      0        0      0   \n",
       "2       0     0      0      0      0       0     0      0        0      0   \n",
       "3       0     0      0      0      0       0     0      0        0      0   \n",
       "4       0     0      0      0      0       0     0      0        0      0   \n",
       "\n",
       "   Mobilio  NEW  NEXON  Nano  New  OMNI  Octavia  Polo  Q3  Rapid  Redi  \\\n",
       "0        0    0      0     0    0     0        0     0   0      0     0   \n",
       "1        0    0      0     0    0     0        0     0   0      0     0   \n",
       "2        0    0      0     0    0     0        0     0   0      0     0   \n",
       "3        0    0      0     0    0     0        0     0   0      0     0   \n",
       "4        0    0      0     0    0     0        0     0   0      0     0   \n",
       "\n",
       "   Rexton  Ritz  S  SELTOS  Santro  Scorpio  Swift  TRIBER  TUV300  Terrano  \\\n",
       "0       0     0  0       0       0        0      0       0       0        0   \n",
       "1       0     0  0       0       0        0      0       0       0        0   \n",
       "2       0     0  0       0       0        0      1       0       0        0   \n",
       "3       0     0  0       0       0        0      0       0       0        0   \n",
       "4       0     0  0       0       0        0      0       0       0        0   \n",
       "\n",
       "   Tiago  Tucson  VENUE  Vento  Verna  Vitara  WR-V  Wagon  X1  XL6  XUV  \\\n",
       "0      0       0      0      0      1       0     0      0   0    0    0   \n",
       "1      0       0      0      0      0       0     0      0   0    0    0   \n",
       "2      0       0      0      0      0       0     0      0   0    0    0   \n",
       "3      0       0      0      0      0       0     0      0   0    0    0   \n",
       "4      0       0      0      0      0       0     0      0   0    0    0   \n",
       "\n",
       "   XUV500  Xcent  YARIS  Zen  i10  i20  \n",
       "0       0      0      0    0    0    0  \n",
       "1       0      0      0    0    0    0  \n",
       "2       0      0      0    0    0    0  \n",
       "3       0      0      0    0    0    0  \n",
       "4       0      0      0    0    0    0  "
      ]
     },
     "execution_count": 62,
     "metadata": {},
     "output_type": "execute_result"
    }
   ],
   "source": [
    "df.head()"
   ]
  },
  {
   "cell_type": "code",
   "execution_count": 63,
   "metadata": {},
   "outputs": [
    {
     "name": "stdout",
     "output_type": "stream",
     "text": [
      "X Train Shape  (2836, 152)\n",
      "Y Train Shape  (2836,)\n",
      "X Test Shape  (709, 152)\n",
      "Y Test Shape  (709,)\n"
     ]
    }
   ],
   "source": [
    "X=df.drop(['Price'], axis = 1, inplace = False) # Training variables\n",
    "y=df['Price'] # Testing variables\n",
    "\n",
    "X_train, X_test, y_train, y_test = train_test_split(X, y, test_size=0.20, random_state=1)\n",
    "\n",
    "print(\"X Train Shape \",X_train.shape)\n",
    "print(\"Y Train Shape \",y_train.shape)\n",
    "\n",
    "print(\"X Test Shape \",X_test.shape)\n",
    "print(\"Y Test Shape \",y_test.shape)"
   ]
  },
  {
   "cell_type": "markdown",
   "metadata": {},
   "source": [
    "### Decision tree regressor"
   ]
  },
  {
   "cell_type": "code",
   "execution_count": 64,
   "metadata": {},
   "outputs": [
    {
     "data": {
      "text/plain": [
       "0.7835208534441132"
      ]
     },
     "execution_count": 64,
     "metadata": {},
     "output_type": "execute_result"
    }
   ],
   "source": [
    "dtr = DecisionTreeRegressor(random_state=5)\n",
    "dtr.fit(X_train, y_train)\n",
    "y_pred_dt = dtr.predict(X_test)\n",
    "dtr.score(X_test, y_test)"
   ]
  },
  {
   "cell_type": "code",
   "execution_count": 65,
   "metadata": {},
   "outputs": [
    {
     "name": "stdout",
     "output_type": "stream",
     "text": [
      "0.8424231858319405\n"
     ]
    }
   ],
   "source": [
    "scr = cross_val_score(dtr, X,y, cv=4)\n",
    "print(scr.mean())"
   ]
  },
  {
   "cell_type": "code",
   "execution_count": 66,
   "metadata": {},
   "outputs": [
    {
     "name": "stdout",
     "output_type": "stream",
     "text": [
      "Mean absolute error = 46876.73\n",
      "Mean squared error = 17450148575.46\n",
      "Median absolute error = 9800.0\n",
      "Explain variance score = 0.78\n",
      "R2 score = 0.78\n"
     ]
    }
   ],
   "source": [
    "print(\"Mean absolute error =\", round(sm.mean_absolute_error(y_test, y_pred_dt), 2)) \n",
    "print(\"Mean squared error =\", round(sm.mean_squared_error(y_test, y_pred_dt), 2)) \n",
    "print(\"Median absolute error =\", round(sm.median_absolute_error(y_test, y_pred_dt), 2)) \n",
    "print(\"Explain variance score =\", round(sm.explained_variance_score(y_test, y_pred_dt), 2)) \n",
    "print(\"R2 score =\", round(sm.r2_score(y_test, y_pred_dt), 2))"
   ]
  },
  {
   "cell_type": "markdown",
   "metadata": {},
   "source": [
    "### Random forest regression"
   ]
  },
  {
   "cell_type": "code",
   "execution_count": 67,
   "metadata": {},
   "outputs": [
    {
     "data": {
      "text/plain": [
       "0.9145346168249961"
      ]
     },
     "execution_count": 67,
     "metadata": {},
     "output_type": "execute_result"
    }
   ],
   "source": [
    "rfr = RandomForestRegressor(random_state=1)\n",
    "rfr.fit(X_train, y_train)\n",
    "y_pred_rfr = rfr.predict(X_test)\n",
    "rfr.score(X_test, y_test)"
   ]
  },
  {
   "cell_type": "code",
   "execution_count": 68,
   "metadata": {},
   "outputs": [
    {
     "name": "stdout",
     "output_type": "stream",
     "text": [
      "0.8835488333313919\n"
     ]
    }
   ],
   "source": [
    "scr = cross_val_score(rfr, X,y, cv=4)\n",
    "print(scr.mean())"
   ]
  },
  {
   "cell_type": "code",
   "execution_count": 69,
   "metadata": {},
   "outputs": [
    {
     "name": "stdout",
     "output_type": "stream",
     "text": [
      "Mean absolute error = 41269.75\n",
      "Mean squared error = 6889271591.24\n",
      "Median absolute error = 21212.0\n",
      "Explain variance score = 0.91\n",
      "R2 score = 0.91\n"
     ]
    }
   ],
   "source": [
    "print(\"Mean absolute error =\", round(sm.mean_absolute_error(y_test, y_pred_rfr), 2)) \n",
    "print(\"Mean squared error =\", round(sm.mean_squared_error(y_test, y_pred_rfr), 2)) \n",
    "print(\"Median absolute error =\", round(sm.median_absolute_error(y_test, y_pred_rfr), 2)) \n",
    "print(\"Explain variance score =\", round(sm.explained_variance_score(y_test, y_pred_rfr), 2)) \n",
    "print(\"R2 score =\", round(sm.r2_score(y_test, y_pred_rfr), 2))"
   ]
  },
  {
   "cell_type": "code",
   "execution_count": 70,
   "metadata": {},
   "outputs": [
    {
     "data": {
      "image/png": "[encoded data removed]",
      "text/plain": [
       "<Figure size 576x576 with 1 Axes>"
      ]
     },
     "metadata": {
      "needs_background": "light"
     },
     "output_type": "display_data"
    }
   ],
   "source": [
    "plt.figure(figsize=(8,8))\n",
    "plt.scatter(y_test,y_pred_rfr)\n",
    "plt.xlabel(\"Actual value of car\")\n",
    "plt.ylabel(\"Predicted value of car\")\n",
    "plt.ticklabel_format(style='plain', axis='y')\n",
    "plt.ticklabel_format(style='plain', axis='x')"
   ]
  },
  {
   "cell_type": "code",
   "execution_count": 71,
   "metadata": {},
   "outputs": [
    {
     "data": {
      "text/plain": [
       "<AxesSubplot:xlabel='Price', ylabel='Density'>"
      ]
     },
     "execution_count": 71,
     "metadata": {},
     "output_type": "execute_result"
    },
    {
     "data": {
      "image/png": "[encoded data removed]",
      "text/plain": [
       "<Figure size 576x576 with 1 Axes>"
      ]
     },
     "metadata": {
      "needs_background": "light"
     },
     "output_type": "display_data"
    }
   ],
   "source": [
    "plt.figure(figsize=(8,8))\n",
    "sns.distplot(y_test-y_pred_rfr)"
   ]
  },
  {
   "cell_type": "markdown",
   "metadata": {},
   "source": [
    "## Taking log of Price, Mileage and min-max of year data "
   ]
  },
  {
   "cell_type": "code",
   "execution_count": 72,
   "metadata": {},
   "outputs": [],
   "source": [
    "df['Price'] = np.log(df['Price'])\n",
    "df['Mileage'] = np.log(df['Mileage'])\n",
    "df['Year']=(df['Year']-df['Year'].min())/(df['Year'].max()-df['Year'].min())"
   ]
  },
  {
   "cell_type": "code",
   "execution_count": 73,
   "metadata": {},
   "outputs": [
    {
     "name": "stdout",
     "output_type": "stream",
     "text": [
      "X Train Shape  (2836, 152)\n",
      "Y Train Shape  (2836,)\n",
      "X Test Shape  (709, 152)\n",
      "Y Test Shape  (709,)\n"
     ]
    }
   ],
   "source": [
    "X=df.drop(['Price'], axis = 1, inplace = False)\n",
    "y=df['Price']\n",
    "\n",
    "X_train, X_test, y_train, y_test = train_test_split(X, y, test_size=0.20, random_state=1)\n",
    "\n",
    "print(\"X Train Shape \",X_train.shape)\n",
    "print(\"Y Train Shape \",y_train.shape)\n",
    "\n",
    "print(\"X Test Shape \",X_test.shape)\n",
    "print(\"Y Test Shape \",y_test.shape)"
   ]
  },
  {
   "cell_type": "markdown",
   "metadata": {},
   "source": [
    "### Random forest regression "
   ]
  },
  {
   "cell_type": "code",
   "execution_count": 74,
   "metadata": {},
   "outputs": [
    {
     "data": {
      "text/plain": [
       "0.9306448307001101"
      ]
     },
     "execution_count": 74,
     "metadata": {},
     "output_type": "execute_result"
    }
   ],
   "source": [
    "rfr = RandomForestRegressor(random_state=1)\n",
    "rfr.fit(X_train, y_train)\n",
    "y_pred_rfr = rfr.predict(X_test)\n",
    "rfr.score(X_test, y_test)"
   ]
  },
  {
   "cell_type": "code",
   "execution_count": 75,
   "metadata": {},
   "outputs": [
    {
     "name": "stdout",
     "output_type": "stream",
     "text": [
      "0.8985542819131052\n"
     ]
    }
   ],
   "source": [
    "scr = cross_val_score(rfr, X,y, cv=4)\n",
    "print(scr.mean())"
   ]
  },
  {
   "cell_type": "markdown",
   "metadata": {},
   "source": [
    "### Decision tree regressor "
   ]
  },
  {
   "cell_type": "code",
   "execution_count": 76,
   "metadata": {},
   "outputs": [
    {
     "data": {
      "text/plain": [
       "0.9036113548355402"
      ]
     },
     "execution_count": 76,
     "metadata": {},
     "output_type": "execute_result"
    }
   ],
   "source": [
    "from sklearn.tree import DecisionTreeRegressor\n",
    "dtr = DecisionTreeRegressor(random_state=5)\n",
    "dtr.fit(X_train, y_train)\n",
    "y_pred_dt = dtr.predict(X_test)\n",
    "dtr.score(X_test, y_test)"
   ]
  },
  {
   "cell_type": "code",
   "execution_count": 77,
   "metadata": {},
   "outputs": [
    {
     "name": "stdout",
     "output_type": "stream",
     "text": [
      "0.8514668386214974\n"
     ]
    }
   ],
   "source": [
    "scr = cross_val_score(dtr, X,y, cv=4)\n",
    "print(scr.mean())"
   ]
  },
  {
   "cell_type": "code",
   "execution_count": 78,
   "metadata": {},
   "outputs": [
    {
     "data": {
      "image/png": "[encoded data removed]",
      "text/plain": [
       "<Figure size 576x576 with 1 Axes>"
      ]
     },
     "metadata": {
      "needs_background": "light"
     },
     "output_type": "display_data"
    }
   ],
   "source": [
    "plt.figure(figsize=(8,8)) # Scatter plot of predicted vs actual values\n",
    "plt.scatter(e**(y_test),e**(y_pred_rfr))\n",
    "plt.xlabel(\"Actual value of car\")\n",
    "plt.ylabel(\"Predicted value of car\")\n",
    "plt.ticklabel_format(style='plain', axis='y')\n",
    "plt.ticklabel_format(style='plain', axis='x')"
   ]
  },
  {
   "cell_type": "code",
   "execution_count": 79,
   "metadata": {},
   "outputs": [
    {
     "data": {
      "text/plain": [
       "<AxesSubplot:xlabel='Price', ylabel='Density'>"
      ]
     },
     "execution_count": 79,
     "metadata": {},
     "output_type": "execute_result"
    },
    {
     "data": {
      "image/png": "[encoded data removed]",
      "text/plain": [
       "<Figure size 576x576 with 1 Axes>"
      ]
     },
     "metadata": {
      "needs_background": "light"
     },
     "output_type": "display_data"
    }
   ],
   "source": [
    "plt.figure(figsize=(8,8))\n",
    "sns.distplot(e**y_test-e**y_pred_rfr) # As I took log before, re-converting the values to real prices"
   ]
  },
  {
   "cell_type": "markdown",
   "metadata": {},
   "source": [
    "### Support vector regression"
   ]
  },
  {
   "cell_type": "code",
   "execution_count": 80,
   "metadata": {},
   "outputs": [
    {
     "data": {
      "text/plain": [
       "0.8506008641068246"
      ]
     },
     "execution_count": 80,
     "metadata": {},
     "output_type": "execute_result"
    }
   ],
   "source": [
    "svr = SVR().fit(X_train, y_train)\n",
    "y_pred_svr = svr.predict(X_test)\n",
    "svr.score(X_test, y_test)"
   ]
  },
  {
   "cell_type": "code",
   "execution_count": 81,
   "metadata": {},
   "outputs": [
    {
     "name": "stdout",
     "output_type": "stream",
     "text": [
      "0.8289945652217025\n"
     ]
    }
   ],
   "source": [
    "scr = cross_val_score(svr, X,y, cv=5)\n",
    "print(scr.mean())"
   ]
  },
  {
   "cell_type": "markdown",
   "metadata": {},
   "source": [
    "### Hyper paramter tuning"
   ]
  },
  {
   "cell_type": "markdown",
   "metadata": {},
   "source": [
    "I will be performing hyper parameter tuning on the random forest regressor model, as it gave the best performance."
   ]
  },
  {
   "cell_type": "code",
   "execution_count": 82,
   "metadata": {},
   "outputs": [],
   "source": [
    "from sklearn.model_selection import GridSearchCV"
   ]
  },
  {
   "cell_type": "code",
   "execution_count": 83,
   "metadata": {},
   "outputs": [],
   "source": [
    "parameters = { 'n_estimators' : [100,150],\n",
    "               'min_samples_leaf' : [1,2], \n",
    "              'min_samples_split': [2,3],\n",
    "              'criterion': ['mse','mae']\n",
    "}"
   ]
  },
  {
   "cell_type": "code",
   "execution_count": 84,
   "metadata": {},
   "outputs": [],
   "source": [
    "GCV = GridSearchCV(RandomForestRegressor(),parameters,cv=5)"
   ]
  },
  {
   "cell_type": "code",
   "execution_count": 85,
   "metadata": {},
   "outputs": [
    {
     "data": {
      "text/plain": [
       "GridSearchCV(cv=5, estimator=RandomForestRegressor(),\n",
       "             param_grid={'criterion': ['mse', 'mae'],\n",
       "                         'min_samples_leaf': [1, 2],\n",
       "                         'min_samples_split': [2, 3],\n",
       "                         'n_estimators': [100, 150]})"
      ]
     },
     "execution_count": 85,
     "metadata": {},
     "output_type": "execute_result"
    }
   ],
   "source": [
    "GCV.fit(X_train,y_train)"
   ]
  },
  {
   "cell_type": "code",
   "execution_count": 86,
   "metadata": {},
   "outputs": [
    {
     "data": {
      "text/plain": [
       "{'criterion': 'mse',\n",
       " 'min_samples_leaf': 1,\n",
       " 'min_samples_split': 3,\n",
       " 'n_estimators': 150}"
      ]
     },
     "execution_count": 86,
     "metadata": {},
     "output_type": "execute_result"
    }
   ],
   "source": [
    "GCV.best_params_"
   ]
  },
  {
   "cell_type": "markdown",
   "metadata": {},
   "source": [
    "Training model according to the best parameters"
   ]
  },
  {
   "cell_type": "code",
   "execution_count": 87,
   "metadata": {},
   "outputs": [
    {
     "data": {
      "text/plain": [
       "0.9302295256916011"
      ]
     },
     "execution_count": 87,
     "metadata": {},
     "output_type": "execute_result"
    }
   ],
   "source": [
    "mod = RandomForestRegressor(min_samples_leaf= 1, min_samples_split =3, n_estimators = 150, criterion='mse')\n",
    "mod.fit(X_train,y_train)\n",
    "pred = mod.predict(X_test)\n",
    "mod.score(X_test,y_test)"
   ]
  },
  {
   "cell_type": "code",
   "execution_count": 88,
   "metadata": {},
   "outputs": [
    {
     "name": "stdout",
     "output_type": "stream",
     "text": [
      "0.8988360574114244\n"
     ]
    }
   ],
   "source": [
    "scr = cross_val_score(mod, X,y, cv=4)\n",
    "print(scr.mean())"
   ]
  },
  {
   "cell_type": "markdown",
   "metadata": {},
   "source": [
    "As we can observe hyper parameter tuning improved the r^2 score to 0.93 which is good."
   ]
  },
  {
   "cell_type": "code",
   "execution_count": 89,
   "metadata": {},
   "outputs": [
    {
     "data": {
      "image/png": "[encoded data removed]",
      "text/plain": [
       "<Figure size 576x576 with 1 Axes>"
      ]
     },
     "metadata": {
      "needs_background": "light"
     },
     "output_type": "display_data"
    }
   ],
   "source": [
    "plt.figure(figsize=(8,8))\n",
    "plt.scatter(e**y_test,e**pred)\n",
    "plt.xlabel(\"Actual value of car\")\n",
    "plt.ylabel(\"Predicted value of car\")\n",
    "plt.ticklabel_format(style='plain', axis='y')\n",
    "plt.ticklabel_format(style='plain', axis='x')"
   ]
  },
  {
   "cell_type": "markdown",
   "metadata": {},
   "source": [
    "Scatter plot of predicted vs actual values, we can se ethat there are some outliers, but most of the values lie in a stright line at 45deg which is optimal. \n",
    "\n",
    "We also got a much tighter fir near 0 deviation which means our model is performing well."
   ]
  },
  {
   "cell_type": "code",
   "execution_count": 90,
   "metadata": {},
   "outputs": [
    {
     "data": {
      "text/plain": [
       "<AxesSubplot:xlabel='Price', ylabel='Density'>"
      ]
     },
     "execution_count": 90,
     "metadata": {},
     "output_type": "execute_result"
    },
    {
     "data": {
      "image/png": "[encoded data removed]",
      "text/plain": [
       "<Figure size 576x576 with 1 Axes>"
      ]
     },
     "metadata": {
      "needs_background": "light"
     },
     "output_type": "display_data"
    }
   ],
   "source": [
    "plt.figure(figsize=(8,8))\n",
    "sns.distplot(e**y_test-e**pred) # As I took log before, re-converting the values to real prices"
   ]
  },
  {
   "cell_type": "markdown",
   "metadata": {},
   "source": [
    "### Saving the model"
   ]
  },
  {
   "cell_type": "code",
   "execution_count": 92,
   "metadata": {},
   "outputs": [
    {
     "data": {
      "text/plain": [
       "['CarPricePred.pkl']"
      ]
     },
     "execution_count": 92,
     "metadata": {},
     "output_type": "execute_result"
    }
   ],
   "source": [
    "import joblib\n",
    "joblib.dump(mod,\"CarPricePred.pkl\")"
   ]
  },
  {
   "cell_type": "markdown",
   "metadata": {},
   "source": [
    "Thank you "
   ]
  }
 ],
 "metadata": {
  "kernelspec": {
   "display_name": "Python 3",
   "language": "python",
   "name": "python3"
  },
  "language_info": {
   "codemirror_mode": {
    "name": "ipython",
    "version": 3
   },
   "file_extension": ".py",
   "mimetype": "text/x-python",
   "name": "python",
   "nbconvert_exporter": "python",
   "pygments_lexer": "ipython3",
   "version": "3.8.5"
  }
 },
 "nbformat": 4,
 "nbformat_minor": 4
}
